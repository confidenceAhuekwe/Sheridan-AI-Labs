{
 "cells": [
  {
   "cell_type": "markdown",
   "metadata": {},
   "source": [
    "<a href=\"https://academics.sheridancollege.ca/programs/computer-engineering-technology\"><img src=\"https://www.sheridancollege.ca/-/media/project/sheridan/shared/images/logos/sheridan-logo-header.svg\" width=\"300\" align=\"center\"></a>\n",
    "\n",
    "\n",
    "<h1><center>AI Applications (ENGI51071) - Lab 0 </center></h1>\n",
    "\n",
    "<h3>Lab Overview</h3>\n",
    "This is part of the lab series for AI Applications.\n",
    "\n",
    "You don't need to do any coding, simply run this notebook to ensure your Jupyter Notebook application is running \n",
    "properly in your Python environment. "
   ]
  },
  {
   "cell_type": "code",
   "execution_count": 15,
   "metadata": {},
   "outputs": [],
   "source": [
    "import numpy as np"
   ]
  },
  {
   "cell_type": "code",
   "execution_count": 16,
   "metadata": {},
   "outputs": [],
   "source": [
    "import cv2 as cv"
   ]
  },
  {
   "cell_type": "code",
   "execution_count": 17,
   "metadata": {},
   "outputs": [],
   "source": [
    "from matplotlib import pyplot as plt"
   ]
  },
  {
   "cell_type": "code",
   "execution_count": 18,
   "metadata": {},
   "outputs": [
    {
     "name": "stdout",
     "output_type": "stream",
     "text": [
      "I am doing AI now!\n"
     ]
    }
   ],
   "source": [
    "print(\"I am doing AI now!\")"
   ]
  },
  {
   "cell_type": "code",
   "execution_count": 20,
   "metadata": {},
   "outputs": [
    {
     "data": {
      "text/plain": [
       "True"
      ]
     },
     "execution_count": 20,
     "metadata": {},
     "output_type": "execute_result"
    }
   ],
   "source": [
    "img = cv.imread('Lab1-red_rose_highres.jpg')\n",
    "cv.namedWindow('myWindow',cv.WINDOW_NORMAL)\n",
    "cv.imshow('myWindow', img)\n",
    "downwidth = 700\n",
    "downheight = 700\n",
    "downpoint=(downwidth, downheight)\n",
    "resized = cv.resize(img, downpoint,interpolation = cv.INTER_LINEAR )\n",
    "cv.imshow('Resized Down by defining height and width', resized) #resized image is visible on screen\n",
    "cv.waitKey(0)\n",
    "cv.destroyAllWindows()\n",
    "cv.imwrite('new_image.jpg',img)"
   ]
  },
  {
   "cell_type": "code",
   "execution_count": null,
   "metadata": {},
   "outputs": [],
   "source": []
  },
  {
   "cell_type": "code",
   "execution_count": null,
   "metadata": {},
   "outputs": [],
   "source": []
  }
 ],
 "metadata": {
  "kernelspec": {
   "display_name": "Python 3 (ipykernel)",
   "language": "python",
   "name": "python3"
  },
  "language_info": {
   "codemirror_mode": {
    "name": "ipython",
    "version": 3
   },
   "file_extension": ".py",
   "mimetype": "text/x-python",
   "name": "python",
   "nbconvert_exporter": "python",
   "pygments_lexer": "ipython3",
   "version": "3.9.18"
  }
 },
 "nbformat": 4,
 "nbformat_minor": 4
}
