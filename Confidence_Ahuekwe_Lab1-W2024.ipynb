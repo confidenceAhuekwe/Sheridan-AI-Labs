{
 "cells": [
  {
   "cell_type": "markdown",
   "metadata": {
    "button": false,
    "new_sheet": false,
    "run_control": {
     "read_only": false
    }
   },
   "source": [
    "<a href=\"https://academics.sheridancollege.ca/programs/computer-engineering-technology\"><img src=\"https://www.sheridancollege.ca/-/media/project/sheridan/shared/images/logos/sheridan-logo-header.svg\" width=\"300\" align=\"center\"></a>\n",
    "\n",
    "\n",
    "<h1><center>AI Application (ENGI51071) - Lab 1 </center></h1>\n",
    "\n",
    "<h3>Lab Overview</h3>\n",
    "This is part of the lab series for AI Application (ENGI51071). In this lab, we learn how to use basic Python programming and OpenCV to implement simple control flow, functions and image manipulation. We will use your webcam to capture image frames and use looping feature in Python to continuously update the captured image frames in the display window. <br>\n",
    "\n",
    "<h3>Important</h3>\n",
    "From this lab on, all labs will be distributed in the format of Jupyter Notebooks.  You can copy these commands from each cell into other IDEs of your preference (such as PyCharm or Spyder). <br>\n",
    "Please use the browser print option to save this page into .pdf format and then submit.  Submissions in other format will receive a zero automatically. "
   ]
  },
  {
   "cell_type": "markdown",
   "metadata": {},
   "source": [
    "<h1>Table of contents</h1>\n",
    "\n",
    "<div class=\"alert alert-block alert-info\" style=\"margin-top: 20px\">\n",
    "    <ol>\n",
    "        <li><a href='#Python_Basics'>Python Basics</a></li>\n",
    "        <li><a href='#Import_Needed_Packages'>Import Needed Packages</a></li>\n",
    "        <li><a href='#Image_Manipulations'>Image Manipulation</a></li>\n",
    "        <li><a href='#Camera_Control'>Camera_Control</a></li>        \n",
    "        <li><a href='#Practice'>Practice</a></li>     \n",
    "    </ol>\n",
    "</div>\n",
    "<br>\n",
    "<hr>"
   ]
  },
  {
   "cell_type": "markdown",
   "metadata": {},
   "source": [
    "## Student Name (s): Confidence Ahuekwe | Student Number: 991714953 | Date: 18th January, 2024. "
   ]
  },
  {
   "cell_type": "markdown",
   "metadata": {},
   "source": [
    "<a id='Python_Basics'></a>\n",
    "<h2>1. Python Basics </h2>\n",
    "\n",
    "Online resources for Python programming is critical if you encounter problems. Some of the recommended readings are listed below. \n",
    "\n",
    "<ol>\n",
    "    <li>A bite of Python (book link <a href=https://python.swaroopch.com/>here</a>).  It is recommended that you read chapter - Basics and chapter – Control flow before working on this lab.  </li>\n",
    "    <li>General Python programming document (resource link <a href=https://docs.python.org/3/tutorial/index.html>here</a>).  Recommended to be used as programming reference when encounter problems.  Abundant sample codes are available in this document. </li>\n",
    "    <li>Display the image in window 'myWindow'.NumPy quick start tutorial (tutorial link <a href=https://docs.scipy.org/doc/numpy-1.15.0/user/quickstart.html>here</a>) Since OpenCV is built upon another Python library numpy, which handles various array operations.  </li>\n",
    "    <li>A series of tutorials on OpenCV (tutorial link <a href=https://opencv-python-tutroals.readthedocs.io/en/latest/py_tutorials/py_gui/py_image_display/py_image_display.html#display-image>here</a>).  Please practice this tutorial series. </li>\n",
    "    </ol>\n"
   ]
  },
  {
   "cell_type": "markdown",
   "metadata": {
    "button": false,
    "new_sheet": false,
    "run_control": {
     "read_only": false
    }
   },
   "source": [
    "<a id='Import_Needed_Packages'></a>\n",
    "<h2> 2. Import Needed packages </h2>\n",
    "<h3> For this lab, the following packages are needed"
   ]
  },
  {
   "cell_type": "code",
   "execution_count": 1,
   "metadata": {},
   "outputs": [
    {
     "name": "stdout",
     "output_type": "stream",
     "text": [
      "Requirement already satisfied: opencv-python in c:\\users\\user\\anaconda3\\envs\\vision2\\lib\\site-packages (4.9.0.80)\n",
      "Requirement already satisfied: numpy>=1.17.0 in c:\\users\\user\\anaconda3\\envs\\vision2\\lib\\site-packages (from opencv-python) (1.26.3)\n",
      "Note: you may need to restart the kernel to use updated packages.\n"
     ]
    }
   ],
   "source": [
    "pip install opencv-python"
   ]
  },
  {
   "cell_type": "code",
   "execution_count": 1,
   "metadata": {
    "button": false,
    "new_sheet": false,
    "run_control": {
     "read_only": false
    }
   },
   "outputs": [],
   "source": [
    "import numpy as np\n",
    "import cv2 as cv\n",
    "import matplotlib.pyplot as plt"
   ]
  },
  {
   "cell_type": "markdown",
   "metadata": {
    "button": false,
    "new_sheet": false,
    "run_control": {
     "read_only": false
    }
   },
   "source": [
    "<a id='Image_Manipulations'></a>\n",
    "<h2>3. Image Manipulations</h2>\n",
    "Your webcam is one of the most accessible imaging sensor, for this lab, we are going to explore its capacity and learn to use OpenCV to manipulate and control it.\n",
    "To begin, use the following OpenCV functions to interface with an image file. In your lab1 package, there is an image included (image from https://createplaytravel.com/) but you can use your own if you prefer. "
   ]
  },
  {
   "cell_type": "markdown",
   "metadata": {},
   "source": [
    "__Note__: You need to place the required image in your work folder in order for the following lines to run properly. The following segment completes a list of tasks.\n",
    "<ol>\n",
    "    <li>Use OpenCV to read in this image. </li>\n",
    "    <li>Create a blank display window named 'myWindow' </li>\n",
    "    <li>Display the image in window 'myWindow'. </li>\n",
    "    <li>If needed, Resize the image to be visible in window 'myWindow'. </li>\n",
    "    <li>Close all windows when you press any key on your keyboard. </li>\n",
    "    <li>Save the image into a different file name. </li>\n",
    "</ol>"
   ]
  },
  {
   "cell_type": "code",
   "execution_count": 2,
   "metadata": {},
   "outputs": [
    {
     "data": {
      "text/plain": [
       "True"
      ]
     },
     "execution_count": 2,
     "metadata": {},
     "output_type": "execute_result"
    }
   ],
   "source": [
    "img = cv.imread('Lab1-red_rose_highres.jpg')\n",
    "cv.namedWindow('myWindow',cv.WINDOW_NORMAL)\n",
    "cv.imshow('myWindow', img)\n",
    "downwidth = 700\n",
    "downheight = 700\n",
    "downpoint=(downwidth, downheight)\n",
    "resized = cv.resize(img, downpoint,interpolation = cv.INTER_LINEAR )\n",
    "cv.imshow('Resized Down by defining height and width', resized) #resized image is visible on screen\n",
    "cv.waitKey(0)\n",
    "cv.destroyAllWindows()\n",
    "cv.imwrite('new_image.jpg',img)"
   ]
  },
  {
   "cell_type": "markdown",
   "metadata": {},
   "source": [
    "__Task 1. (1')__ Now use if statement to add control flow to this process so that only when you press 'ESC' the window closes. <br>\n",
    "The condition is:<br>\n",
    "key_stroke = cv.waitKey(0) <br>\n",
    "if key_stroke & 0xFF == 27: <br>\n",
    "    ...\n",
    "Please record and run your code in the cell below."
   ]
  },
  {
   "cell_type": "code",
   "execution_count": 5,
   "metadata": {},
   "outputs": [],
   "source": [
    "# write your code for Task 1 here\n",
    "cv.namedWindow('myWindow',cv.WINDOW_NORMAL)\n",
    "cv.imshow('myWindow', img)\n",
    "downwidth = 700\n",
    "downheight = 700\n",
    "downpoint=(downwidth, downheight)\n",
    "resized = cv.resize(img, downpoint,interpolation = cv.INTER_LINEAR )\n",
    "cv.imshow('Resized Down by defining height and width', resized) #resized image is visible on screen\n",
    "key_stroke = cv.waitKey(0)\n",
    "if key_stroke & 0xFF == 27: # Esc key\n",
    "        cv.destroyAllWindows()"
   ]
  },
  {
   "cell_type": "markdown",
   "metadata": {},
   "source": [
    "By default, cv.imread will read the image as in BGR format, meaning three channels represent color Blue, Red and Green respectively. In Python, these three channels of image matrix named 'img' are referred to as img[:,:,0], img[:,:,1], img[:,:,2].  <br>\n",
    "Often, OpenCV uses a built-in function cv2.split() to split the three channels. Below are codes for two ways of implementation.  "
   ]
  },
  {
   "cell_type": "code",
   "execution_count": 4,
   "metadata": {},
   "outputs": [],
   "source": [
    "cv.namedWindow('myWindow',cv.WINDOW_NORMAL)\n",
    "for i in [0,1,2]:\n",
    "    cv.imshow('myWindow', img[:,:,i])      \n",
    "    cv.waitKey(0)\n",
    "cv.destroyAllWindows()"
   ]
  },
  {
   "cell_type": "markdown",
   "metadata": {},
   "source": [
    "<h3> Familiarize with Image Channels </h3>\n",
    "OpenCV can be used to visualize the individual channels of a color image.<br>"
   ]
  },
  {
   "cell_type": "markdown",
   "metadata": {},
   "source": [
    "__Task 2 (2')__. Create three windows to display three channels individually, label the correct color channel as your window name, take screenshots of all three windows simultaneously and record your code in the cell below. "
   ]
  },
  {
   "cell_type": "code",
   "execution_count": 3,
   "metadata": {},
   "outputs": [],
   "source": [
    "# write your code here\n",
    "# splitting the image into its channels\n",
    "B, G, R = cv.split(img)\n",
    "\n",
    "# creating windows for each channel\n",
    "cv.namedWindow('Blue Channel', cv.WINDOW_NORMAL)\n",
    "cv.namedWindow('Green Channel', cv.WINDOW_NORMAL)\n",
    "cv.namedWindow('Red Channel', cv.WINDOW_NORMAL)\n",
    "\n",
    "# displaying each channel in its respective window\n",
    "cv.imshow('Blue Channel', B)\n",
    "cv.imshow('Green Channel', G)\n",
    "cv.imshow('Red Channel', R)\n",
    "\n",
    "# waiting for a key press before closing the windows\n",
    "cv.waitKey(0)\n",
    "cv.destroyAllWindows()"
   ]
  },
  {
   "cell_type": "markdown",
   "metadata": {},
   "source": [
    "__Task 3 (2')__ Convert your image from RGB color space to HSV color space by using the following command and display the three channels in individual windows as well:<br>\n",
    "    img_hsv = cv.cvtColor(img_RGB, cv.COLOR_BGR2HSV) <br>\n",
    "Please label the corresponding windows with the proper channel name \"Hue\", \"\"Saturation\", \"Value\". Record your code in the cell below."
   ]
  },
  {
   "cell_type": "code",
   "execution_count": 4,
   "metadata": {},
   "outputs": [],
   "source": [
    "# write your code here\n",
    "# Load an example image (replace 'your_image.jpg' with the actual image file)\n",
    "img = cv.imread('Lab1-red_rose_highres.jpg')\n",
    "\n",
    "# Check if the image is loaded successfully\n",
    "if img is None:\n",
    "    print(\"Error: Could not open the image.\")\n",
    "else:\n",
    "    # Resize factor for better visualization\n",
    "    resize_factor = 0.1\n",
    "    img_resized = cv.resize(img, None, fx=resize_factor, fy=resize_factor)\n",
    "\n",
    "    # Convert the image from BGR to HSV\n",
    "    img_hsv = cv.cvtColor(img_resized, cv.COLOR_BGR2HSV)\n",
    "\n",
    "    # Loop through the HSV channels (H, S, V)\n",
    "    for i, channel_name in enumerate(['Hue', 'Saturation', 'Value']):\n",
    "        # Extract the corresponding channel\n",
    "        channel = img_hsv[:, :, i]\n",
    "        cv.imshow(f'{channel_name} Channel', channel)\n",
    "\n",
    "    cv.waitKey(0)\n",
    "    cv.destroyAllWindows()"
   ]
  },
  {
   "cell_type": "markdown",
   "metadata": {},
   "source": [
    "<a id='Camera_Control'></a>\n",
    "<h2>4. Camera Control</h2>\n",
    "Your webcam is one of the most accessible imaging sensors. For this lab, we are going to explore its capacity and learn to use OpenCV to manipulate and control it.<br>\n",
    "OpenCV provides a detailed tutorial on on how to capture from Camera and display it.  The link can be found\n",
    "<a href=\"https://opencv-python-tutroals.readthedocs.io/en/latest/py_tutorials/py_gui/py_video_display/py_video_display.html\" target=\"_blank\"> here</a>.\n",
    "\n",
    "To summarize, you need to:\n",
    "<ol>\n",
    "    <li>Create a camera object and name it accordingly (in this lab, please name it cap for consistency) </li>\n",
    "    <li>Create a capture success flag ret and set its default value to be True</li>\n",
    "    <li>Use cap.read() to read in the captured frame and the capture success flag </li>\n",
    "    <li>Display the captured frame in a Window </li>\n",
    "    <li>Close the display window if any key is pressed </li>\n",
    "</ol>\n",
    "\n",
    "The cell below shows the code sequence to achieve that. "
   ]
  },
  {
   "cell_type": "code",
   "execution_count": 8,
   "metadata": {},
   "outputs": [],
   "source": [
    "cap = cv.VideoCapture(0)\n",
    "ret = True\n",
    "ret, frame = cap.read()\n",
    "cv.namedWindow('test_frame',cv.WINDOW_NORMAL)\n",
    "cv.imshow('test_frame',frame)\n",
    "cv.waitKey(0) \n",
    "cap.release()\n",
    "cv.destroyAllWindows()"
   ]
  },
  {
   "cell_type": "markdown",
   "metadata": {},
   "source": [
    "__Task 4 (2')__ Now use the control flow statement that we have learned in class to change the code above to implement video streaming.  <br>\n",
    "Hint: in this case, you may want to use loop statement such as while to continuously refresh the display window with the latest captured frame.  Please record and test your code in the cell below. "
   ]
  },
  {
   "cell_type": "code",
   "execution_count": 10,
   "metadata": {},
   "outputs": [],
   "source": [
    "# write your code here\n",
    "# Open the webcam\n",
    "cap = cv.VideoCapture(0)\n",
    "\n",
    "# Create a window to display the video stream\n",
    "cv.namedWindow('test_frame', cv.WINDOW_NORMAL)\n",
    "\n",
    "while True:\n",
    "    # Capture a frame from the webcam\n",
    "    ret, frame = cap.read()\n",
    "\n",
    "    # Display the frame in the window\n",
    "    cv.imshow('test_frame', frame)\n",
    "\n",
    "    # Wait for a key press and exit the loop if 'q' is pressed\n",
    "    if cv.waitKey(1) & 0xFF == 27:\n",
    "        break\n",
    "\n",
    "# Release the webcam and destroy all windows\n",
    "cap.release()\n",
    "cv.destroyAllWindows()"
   ]
  },
  {
   "cell_type": "markdown",
   "metadata": {},
   "source": [
    "<h3>Exercise on Python camera manipulation </h3>"
   ]
  },
  {
   "cell_type": "markdown",
   "metadata": {},
   "source": [
    "__Task 5 (1')__ Now with all the knowledge we have, please write a piece code to display all three Blue Green Red channel of the camera video stream and check if it is working properly in the cell below.  "
   ]
  },
  {
   "cell_type": "code",
   "execution_count": null,
   "metadata": {
    "button": false,
    "new_sheet": false,
    "run_control": {
     "read_only": false
    }
   },
   "outputs": [],
   "source": [
    "# write your code here\n",
    "# starting video capture\n",
    "cap = cv.VideoCapture(0)\n",
    "\n",
    "# checking if the capture has been initialized correctly\n",
    "if not cap.isOpened():\n",
    "    print(\"Error: Could not open video stream.\")\n",
    "    exit()\n",
    "\n",
    "# creating windows for each channel\n",
    "cv.namedWindow('Blue Channel', cv.WINDOW_NORMAL)\n",
    "cv.namedWindow('Green Channel', cv.WINDOW_NORMAL)\n",
    "cv.namedWindow('Red Channel', cv.WINDOW_NORMAL)\n",
    "\n",
    "while True:\n",
    "    # capturing frame-by-frame\n",
    "    ret, frame = cap.read()\n",
    "\n",
    "    if not ret:\n",
    "        print(\"Error: Can't receive frame. Exiting.\")\n",
    "        break\n",
    "# splitting the frame into its channels\n",
    "    B, G, R = cv.split(frame)\n",
    "\n",
    " # displaying each channel in its respective window\n",
    "    cv.imshow('Blue Channel', B)\n",
    "    cv.imshow('Green Channel', G)\n",
    "    cv.imshow('Red Channel', R)\n",
    "\n",
    "    # breaking the loop if 'q' is pressed\n",
    "    if cv.waitKey(1) & 0xFF == ord('q'):\n",
    "        break\n",
    "\n",
    "# releasing the capture and destroy all windows\n",
    "cap.release()\n",
    "cv.destroyAllWindows()\n",
    "\n",
    "# Color Detection Exercise using HSV Color Space\n",
    "cap = cv.VideoCapture(0)\n",
    "ret = True\n",
    "cv.namedWindow('Original', cv.WINDOW_NORMAL)\n",
    "cv.namedWindow('Mask', cv.WINDOW_NORMAL)\n",
    "cv.namedWindow('Blue', cv.WINDOW_NORMAL)\n",
    "while (ret):\n",
    "    ret, frame = cap.read()\n",
    "\n",
    "    # Convert BGR to HSV\n",
    "    hsv = cv.cvtColor(frame, cv.COLOR_BGR2HSV)\n",
    "\n",
    " # define range of blue color in HSV\n",
    "    lower_blue = np.array([100, 50, 50])\n",
    "    upper_blue = np.array([140, 255, 255])\n",
    "\n",
    "# create a mask that only pixels within the range of lower_blue and upper_blue\n",
    "    # will be labeled as 1, other as 0\n",
    "    mask = cv.inRange(hsv, lower_blue, upper_blue)\n",
    "\n",
    "    # Bitwise-AND mask and original image\n",
    "    blue = cv.bitwise_and(frame, frame, mask=mask)\n",
    "\n",
    "    cv.imshow('Original', frame)\n",
    "    cv.imshow('Mask', mask)\n",
    "    cv.imshow('Blue', blue)\n",
    "\n",
    "    k = cv.waitKey(10) & 0xFF\n",
    "    if k == 27:\n",
    "        break\n",
    "else:\n",
    "    print('Video capture fault, exit...')\n",
    "\n",
    "cap.release()\n",
    "cv.destroyAllWindows()"
   ]
  },
  {
   "cell_type": "markdown",
   "metadata": {},
   "source": [
    "<a id='Practice'></a>\n",
    "<h2>5. Practice</h2>\n",
    "<h3>Color detection exercise using HSV color space </h3>\n",
    "Why is HSV preferred in some computer vision applications? It is because that human visual perception understands Hue, Saturation and Value better. Below we are going to create a color detection application that detects specified colors in a video stream.  <br>\n",
    "First, let's start with a <b>blue</b> color detector. <br>\n",
    "In order to achieve this we need to follow the below steps: \n",
    "<ol>\n",
    "    <li>Convert the captured frames into HSV color space </li>\n",
    "    <li>Define a lower limit and an upper limit of BGR values of colors that needs to be detected. (BLUE in our example)</li>\n",
    "    <li>Detect colors in an image within the range defined above. This is thresholding of an image done using cv2.inRange function</li>\n",
    "    <li>Perform bitwise and of the input image and mask the output with the image present in the mask variable to highlight the area where the color is detected in the input image.  </li>\n",
    "</ol>\n"
   ]
  },
  {
   "cell_type": "code",
   "execution_count": null,
   "metadata": {},
   "outputs": [],
   "source": [
    "import numpy as np\n",
    "import cv2 as cv\n",
    "\n",
    "cap = cv.VideoCapture(0)\n",
    "ret = True\n",
    "cv.namedWindow('Original',cv.WINDOW_NORMAL)\n",
    "cv.namedWindow('Mask',cv.WINDOW_NORMAL)\n",
    "cv.namedWindow('Blue',cv.WINDOW_NORMAL)\n",
    "while(ret):\n",
    "    ret, frame = cap.read()\n",
    "\n",
    "    # Convert BGR to HSV\n",
    "    hsv = cv.cvtColor(frame, cv.COLOR_BGR2HSV)\n",
    "\n",
    "    # define range of blue color in HSV\n",
    "    lower_blue = np.array([100,50,50])\n",
    "    upper_blue = np.array([140,255,255])\n",
    "    \n",
    "    # create a mask that only pixels within the range of lower_blue and upper_blue\n",
    "    # will be labeled as 1, other as 0\n",
    "    mask = cv.inRange(hsv, lower_blue, upper_blue)\n",
    "\n",
    "    # Bitwise-AND mask and original image\n",
    "    blue = cv.bitwise_and(frame, frame, mask = mask)\n",
    "\n",
    "    cv.imshow('Original',frame)\n",
    "    cv.imshow('Mask',mask)\n",
    "    cv.imshow('Blue',blue)\n",
    "\n",
    "    k = cv.waitKey(10) & 0xFF\n",
    "    if k == 27:\n",
    "        break\n",
    "else: \n",
    "    print('Video capture fault, exit...')\n",
    "    \n",
    "cap.release()\n",
    "cv.destroyAllWindows()"
   ]
  },
  {
   "cell_type": "markdown",
   "metadata": {},
   "source": [
    "Now change this code to make a yellow color detector by changing the color range: <br>\n",
    "\n",
    "Hint: Yellow color range is commonly defined as between (20, 50, 50) to (30,255,255). <br>\n",
    "__Task 6 (2')__ Please record your code in the cell below and comment on why RGB is not a good color space for this application. "
   ]
  },
  {
   "cell_type": "code",
   "execution_count": null,
   "metadata": {},
   "outputs": [],
   "source": [
    "# write your code here\n",
    "# starting video capture\n",
    "cap = cv.VideoCapture(0)\n",
    "\n",
    "# checking if the capture has been initialized correctly\n",
    "if not cap.isOpened():\n",
    "    print(\"Error: Could not open video stream.\")\n",
    "    exit()\n",
    "\n",
    "# creating windows for displaying the results\n",
    "cv.namedWindow('Original', cv.WINDOW_NORMAL)\n",
    "cv.namedWindow('Mask', cv.WINDOW_NORMAL)\n",
    "cv.namedWindow('Yellow Detection', cv.WINDOW_NORMAL)\n",
    "\n",
    "while True:\n",
    "    # capturing frame-by-frame\n",
    "    ret, frame = cap.read()\n",
    "\n",
    "    if not ret:\n",
    "        print(\"Error: Can't receive frame. Exiting.\")\n",
    "        break\n",
    "\n",
    "    # converting BGR to HSV\n",
    "    hsv = cv.cvtColor(frame, cv.COLOR_BGR2HSV)\n",
    "\n",
    "# defining range of yellow color in HSV\n",
    "    lower_yellow = np.array([20, 50, 50])\n",
    "    upper_yellow = np.array([30, 255, 255])\n",
    "\n",
    "    # thresholding the HSV image to get only yellow colors\n",
    "    mask = cv.inRange(hsv, lower_yellow, upper_yellow)\n",
    "\n",
    "    # detecting for Bitwise-AND mask and original image\n",
    "    yellow_detection = cv.bitwise_and(frame, frame, mask=mask)\n",
    "\n",
    "    # displaying the resulting frame\n",
    "    cv.imshow('Original', frame)\n",
    "    cv.imshow('Mask', mask)\n",
    "    cv.imshow('Yellow Detection', yellow_detection)\n",
    "# breaking the loop if 'ESC' key is pressed\n",
    "    if cv.waitKey(1) & 0xFF == 27:\n",
    "        break\n",
    "\n",
    "# releasing the capture and destroy all windows\n",
    "cap.release()\n",
    "cv.destroyAllWindows()"
   ]
  },
  {
   "cell_type": "code",
   "execution_count": null,
   "metadata": {},
   "outputs": [],
   "source": []
  }
 ],
 "metadata": {
  "kernelspec": {
   "display_name": "Python 3 (ipykernel)",
   "language": "python",
   "name": "python3"
  },
  "language_info": {
   "codemirror_mode": {
    "name": "ipython",
    "version": 3
   },
   "file_extension": ".py",
   "mimetype": "text/x-python",
   "name": "python",
   "nbconvert_exporter": "python",
   "pygments_lexer": "ipython3",
   "version": "3.9.18"
  },
  "widgets": {
   "state": {},
   "version": "1.1.2"
  }
 },
 "nbformat": 4,
 "nbformat_minor": 4
}
