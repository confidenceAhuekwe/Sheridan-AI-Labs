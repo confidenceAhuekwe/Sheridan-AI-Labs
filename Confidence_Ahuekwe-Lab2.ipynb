{
 "cells": [
  {
   "cell_type": "markdown",
   "metadata": {
    "button": false,
    "new_sheet": false,
    "run_control": {
     "read_only": false
    }
   },
   "source": [
    "<a href=\"https://academics.sheridancollege.ca/programs/computer-engineering-technology\"><img src=\"https://www.sheridancollege.ca/-/media/project/sheridan/shared/images/logos/sheridan-logo-header.svg\" width=\"300\" align=\"center\"></a>\n",
    "\n",
    "\n",
    "<h1><center>AI Application (ENGI51071) - Lab 2 </center></h1>\n",
    "<h2><center>Student Name(s): Confidence Ahuekwe | Student Number: 991714953 | Date: 31st January, 2024.</center></h2> \n",
    "<h3>Lab Overview</h3>\n",
    "This is part of the lab series for AI Application (ENGI51071). In this lab, we learn how to use basic Python programming, scikitlearn, and pandas to manipulate data and implement linear regression models.  The ploting scheme is using matplotlib to allow inline plotting. \n",
    "\n",
    "\n",
    "<h1>Table of contents</h1>\n",
    "\n",
    "<div class=\"alert alert-block alert-info\" style=\"margin-top: 20px\">\n",
    "    <ol>\n",
    "        <li><a href='#Import_Needed_Packages'>Import Needed Packages</a></li>\n",
    "        <li><a href='#Dataframe_Manipulation'>Dataframe Manipulation</a></li>\n",
    "        <li><a href='#Data_Visualization'>Data Visualization</a></li>\n",
    "        <li><a href='#Simple_Linear_Regression'>Simple Linear Regression</a></li>      \n",
    "        <li><a href='#Multiple_Linear_Regression'>Multiple Linear Regression</a></li>\n",
    "        <li><a href='#K_fold_Cross_Validation'>K-fold Cross Validation</a></li>\n",
    "        <li><a href='#Exercise'>Exercise</a></li>\n",
    "    </ol>\n",
    "</div>\n",
    "<br>\n",
    "<hr>"
   ]
  },
  {
   "cell_type": "markdown",
   "metadata": {},
   "source": [
    "<a id='Import_Needed_Packages'></a>\n",
    "<h2> 1. Import Needed packages </h2>\n",
    "<h3> For this lab, the following packages are needed </h3><br>\n",
    "numpy: Python library for working with arrays<br>\n",
    "matplotlib: Python inline ploting library<br>\n",
    "pandas: Python Data Analysis Library to work with dataframes.  <br>\n",
    "sklearn: scikit-learn, a commonly used machine learning library. <br>\n",
    "\n",
    "<h4>Pandas tutorial link: <a href=\"https://pandas.pydata.org/docs/getting_started/intro_tutorials/01_table_oriented.html\">click here</a></h4>\n"
   ]
  },
  {
   "cell_type": "code",
   "execution_count": 4,
   "metadata": {},
   "outputs": [
    {
     "name": "stdout",
     "output_type": "stream",
     "text": [
      "Requirement already satisfied: matplotlib in c:\\users\\user\\anaconda3\\envs\\vision2\\lib\\site-packages (3.8.0)\n",
      "Requirement already satisfied: contourpy>=1.0.1 in c:\\users\\user\\anaconda3\\envs\\vision2\\lib\\site-packages (from matplotlib) (1.2.0)\n",
      "Requirement already satisfied: cycler>=0.10 in c:\\users\\user\\anaconda3\\envs\\vision2\\lib\\site-packages (from matplotlib) (0.11.0)\n",
      "Requirement already satisfied: fonttools>=4.22.0 in c:\\users\\user\\anaconda3\\envs\\vision2\\lib\\site-packages (from matplotlib) (4.25.0)\n",
      "Requirement already satisfied: kiwisolver>=1.0.1 in c:\\users\\user\\anaconda3\\envs\\vision2\\lib\\site-packages (from matplotlib) (1.4.4)\n",
      "Requirement already satisfied: numpy<2,>=1.21 in c:\\users\\user\\anaconda3\\envs\\vision2\\lib\\site-packages (from matplotlib) (1.26.3)\n",
      "Requirement already satisfied: packaging>=20.0 in c:\\users\\user\\anaconda3\\envs\\vision2\\lib\\site-packages (from matplotlib) (23.1)\n",
      "Requirement already satisfied: pillow>=6.2.0 in c:\\users\\user\\anaconda3\\envs\\vision2\\lib\\site-packages (from matplotlib) (10.0.1)\n",
      "Requirement already satisfied: pyparsing>=2.3.1 in c:\\users\\user\\anaconda3\\envs\\vision2\\lib\\site-packages (from matplotlib) (3.0.9)\n",
      "Requirement already satisfied: python-dateutil>=2.7 in c:\\users\\user\\anaconda3\\envs\\vision2\\lib\\site-packages (from matplotlib) (2.8.2)\n",
      "Requirement already satisfied: importlib-resources>=3.2.0 in c:\\users\\user\\anaconda3\\envs\\vision2\\lib\\site-packages (from matplotlib) (6.1.1)\n",
      "Requirement already satisfied: zipp>=3.1.0 in c:\\users\\user\\anaconda3\\envs\\vision2\\lib\\site-packages (from importlib-resources>=3.2.0->matplotlib) (3.17.0)\n",
      "Requirement already satisfied: six>=1.5 in c:\\users\\user\\anaconda3\\envs\\vision2\\lib\\site-packages (from python-dateutil>=2.7->matplotlib) (1.16.0)\n"
     ]
    }
   ],
   "source": [
    "# only run this if you don't have matplotlib installed\n",
    "!pip install matplotlib "
   ]
  },
  {
   "cell_type": "code",
   "execution_count": 2,
   "metadata": {},
   "outputs": [
    {
     "name": "stdout",
     "output_type": "stream",
     "text": [
      "Requirement already satisfied: pandas in c:\\users\\user\\anaconda3\\envs\\vision2\\lib\\site-packages (2.2.0)\n",
      "Requirement already satisfied: numpy<2,>=1.22.4 in c:\\users\\user\\anaconda3\\envs\\vision2\\lib\\site-packages (from pandas) (1.26.3)\n",
      "Requirement already satisfied: python-dateutil>=2.8.2 in c:\\users\\user\\anaconda3\\envs\\vision2\\lib\\site-packages (from pandas) (2.8.2)\n",
      "Requirement already satisfied: pytz>=2020.1 in c:\\users\\user\\anaconda3\\envs\\vision2\\lib\\site-packages (from pandas) (2023.3.post1)\n",
      "Requirement already satisfied: tzdata>=2022.7 in c:\\users\\user\\anaconda3\\envs\\vision2\\lib\\site-packages (from pandas) (2023.4)\n",
      "Requirement already satisfied: six>=1.5 in c:\\users\\user\\anaconda3\\envs\\vision2\\lib\\site-packages (from python-dateutil>=2.8.2->pandas) (1.16.0)\n"
     ]
    }
   ],
   "source": [
    "# only run this if you don't have panda installed\n",
    "!pip install pandas "
   ]
  },
  {
   "cell_type": "code",
   "execution_count": 5,
   "metadata": {},
   "outputs": [
    {
     "name": "stdout",
     "output_type": "stream",
     "text": [
      "Collecting scikit-learn\n",
      "  Downloading scikit_learn-1.4.0-1-cp39-cp39-win_amd64.whl.metadata (11 kB)\n",
      "Requirement already satisfied: numpy<2.0,>=1.19.5 in c:\\users\\user\\anaconda3\\envs\\vision2\\lib\\site-packages (from scikit-learn) (1.26.3)\n",
      "Collecting scipy>=1.6.0 (from scikit-learn)\n",
      "  Downloading scipy-1.12.0-cp39-cp39-win_amd64.whl.metadata (60 kB)\n",
      "     ---------------------------------------- 0.0/60.4 kB ? eta -:--:--\n",
      "     ------ --------------------------------- 10.2/60.4 kB ? eta -:--:--\n",
      "     ------------------------- ------------ 41.0/60.4 kB 653.6 kB/s eta 0:00:01\n",
      "     -------------------------------------- 60.4/60.4 kB 643.6 kB/s eta 0:00:00\n",
      "Collecting joblib>=1.2.0 (from scikit-learn)\n",
      "  Downloading joblib-1.3.2-py3-none-any.whl.metadata (5.4 kB)\n",
      "Collecting threadpoolctl>=2.0.0 (from scikit-learn)\n",
      "  Downloading threadpoolctl-3.2.0-py3-none-any.whl.metadata (10.0 kB)\n",
      "Downloading scikit_learn-1.4.0-1-cp39-cp39-win_amd64.whl (10.6 MB)\n",
      "   ---------------------------------------- 0.0/10.6 MB ? eta -:--:--\n",
      "   - -------------------------------------- 0.5/10.6 MB 9.6 MB/s eta 0:00:02\n",
      "   ------ --------------------------------- 1.8/10.6 MB 19.2 MB/s eta 0:00:01\n",
      "   ------------ --------------------------- 3.2/10.6 MB 22.7 MB/s eta 0:00:01\n",
      "   ------------------ --------------------- 5.0/10.6 MB 26.4 MB/s eta 0:00:01\n",
      "   ------------------------- -------------- 6.8/10.6 MB 29.1 MB/s eta 0:00:01\n",
      "   ------------------------------- -------- 8.4/10.6 MB 29.8 MB/s eta 0:00:01\n",
      "   ----------------------------------- ---- 9.4/10.6 MB 30.2 MB/s eta 0:00:01\n",
      "   ---------------------------------------  10.6/10.6 MB 32.8 MB/s eta 0:00:01\n",
      "   ---------------------------------------- 10.6/10.6 MB 28.5 MB/s eta 0:00:00\n",
      "Downloading joblib-1.3.2-py3-none-any.whl (302 kB)\n",
      "   ---------------------------------------- 0.0/302.2 kB ? eta -:--:--\n",
      "   --------------------------------------- 302.2/302.2 kB 18.2 MB/s eta 0:00:00\n",
      "Downloading scipy-1.12.0-cp39-cp39-win_amd64.whl (46.2 MB)\n",
      "   ---------------------------------------- 0.0/46.2 MB ? eta -:--:--\n",
      "   - -------------------------------------- 1.6/46.2 MB 52.5 MB/s eta 0:00:01\n",
      "   -- ------------------------------------- 3.0/46.2 MB 38.9 MB/s eta 0:00:02\n",
      "   ---- ----------------------------------- 4.7/46.2 MB 42.8 MB/s eta 0:00:01\n",
      "   ----- ---------------------------------- 6.0/46.2 MB 38.4 MB/s eta 0:00:02\n",
      "   ------ --------------------------------- 7.3/46.2 MB 36.1 MB/s eta 0:00:02\n",
      "   ------- -------------------------------- 8.6/46.2 MB 36.8 MB/s eta 0:00:02\n",
      "   -------- ------------------------------- 9.9/46.2 MB 35.3 MB/s eta 0:00:02\n",
      "   --------- ------------------------------ 10.8/46.2 MB 32.8 MB/s eta 0:00:02\n",
      "   ---------- ----------------------------- 11.7/46.2 MB 31.2 MB/s eta 0:00:02\n",
      "   ---------- ----------------------------- 12.7/46.2 MB 31.2 MB/s eta 0:00:02\n",
      "   ------------ --------------------------- 14.2/46.2 MB 28.4 MB/s eta 0:00:02\n",
      "   ------------- -------------------------- 15.8/46.2 MB 29.7 MB/s eta 0:00:02\n",
      "   --------------- ------------------------ 17.4/46.2 MB 29.7 MB/s eta 0:00:01\n",
      "   ---------------- ----------------------- 19.1/46.2 MB 32.8 MB/s eta 0:00:01\n",
      "   ----------------- ---------------------- 20.6/46.2 MB 32.8 MB/s eta 0:00:01\n",
      "   ------------------- -------------------- 22.5/46.2 MB 38.6 MB/s eta 0:00:01\n",
      "   -------------------- ------------------- 24.1/46.2 MB 40.9 MB/s eta 0:00:01\n",
      "   ---------------------- ----------------- 25.9/46.2 MB 43.7 MB/s eta 0:00:01\n",
      "   ----------------------- ---------------- 27.4/46.2 MB 40.9 MB/s eta 0:00:01\n",
      "   ------------------------- -------------- 29.1/46.2 MB 40.9 MB/s eta 0:00:01\n",
      "   -------------------------- ------------- 30.3/46.2 MB 38.5 MB/s eta 0:00:01\n",
      "   --------------------------- ------------ 31.9/46.2 MB 38.6 MB/s eta 0:00:01\n",
      "   ---------------------------- ----------- 33.4/46.2 MB 40.9 MB/s eta 0:00:01\n",
      "   ------------------------------ --------- 34.7/46.2 MB 36.4 MB/s eta 0:00:01\n",
      "   ------------------------------- -------- 36.4/46.2 MB 36.4 MB/s eta 0:00:01\n",
      "   -------------------------------- ------- 38.0/46.2 MB 36.4 MB/s eta 0:00:01\n",
      "   ---------------------------------- ----- 39.5/46.2 MB 40.9 MB/s eta 0:00:01\n",
      "   ----------------------------------- ---- 41.3/46.2 MB 38.6 MB/s eta 0:00:01\n",
      "   ------------------------------------ --- 42.6/46.2 MB 38.5 MB/s eta 0:00:01\n",
      "   -------------------------------------- - 44.1/46.2 MB 38.6 MB/s eta 0:00:01\n",
      "   ---------------------------------------  45.5/46.2 MB 36.4 MB/s eta 0:00:01\n",
      "   ---------------------------------------  46.2/46.2 MB 36.3 MB/s eta 0:00:01\n",
      "   ---------------------------------------  46.2/46.2 MB 36.3 MB/s eta 0:00:01\n",
      "   ---------------------------------------  46.2/46.2 MB 36.3 MB/s eta 0:00:01\n",
      "   ---------------------------------------  46.2/46.2 MB 36.3 MB/s eta 0:00:01\n",
      "   ---------------------------------------  46.2/46.2 MB 36.3 MB/s eta 0:00:01\n",
      "   ---------------------------------------- 46.2/46.2 MB 21.1 MB/s eta 0:00:00\n",
      "Downloading threadpoolctl-3.2.0-py3-none-any.whl (15 kB)\n",
      "Installing collected packages: threadpoolctl, scipy, joblib, scikit-learn\n",
      "Successfully installed joblib-1.3.2 scikit-learn-1.4.0 scipy-1.12.0 threadpoolctl-3.2.0\n"
     ]
    }
   ],
   "source": [
    "# only run this if you don't have sklearn installed\n",
    "!pip install scikit-learn"
   ]
  },
  {
   "cell_type": "code",
   "execution_count": 92,
   "metadata": {},
   "outputs": [],
   "source": [
    "import numpy as np\n",
    "import matplotlib.pyplot as plt\n",
    "#import matplotlib.image as mpimg\n",
    "import pandas as pd\n",
    "from sklearn import preprocessing\n",
    "from sklearn import linear_model\n",
    "from sklearn import metrics"
   ]
  },
  {
   "cell_type": "markdown",
   "metadata": {},
   "source": [
    "<a id='Dataframe_Manipulation'></a>\n",
    "<h2>2. Dataframe Manipulation</h2>\n",
    "In machine learning, the data is commonly organized in a tabular formart. In Python, library pandas is the most popular one in working with such tables. Pandas uses a data structure called \"dataframe\" to store tables.  It is defined as \"two-dimensional, size-mutable, potentially heterogeneous tabular data.\" <br>\n",
    "Essensitally, datafram is Python's answer to tabular data structure.  Dataframes organize attributes and observations as the column and row labels. It is similar to a spreadsheet, a SQL table or the data.frame in R. <br>\n",
    "To better understand this, let us start working on a more complex dataset with features of different format. Here, we are using a public dataset provided by Corgis database project.  You may find more information about this dataset from the link below: <br>\n",
    "\n",
    "<h4>Corgis Project link: <a href=\"https://corgis-edu.github.io/corgis/csv/cars/\">click here</a></h4>\n"
   ]
  },
  {
   "cell_type": "code",
   "execution_count": 93,
   "metadata": {},
   "outputs": [
    {
     "data": {
      "text/html": [
       "<div>\n",
       "<style scoped>\n",
       "    .dataframe tbody tr th:only-of-type {\n",
       "        vertical-align: middle;\n",
       "    }\n",
       "\n",
       "    .dataframe tbody tr th {\n",
       "        vertical-align: top;\n",
       "    }\n",
       "\n",
       "    .dataframe thead th {\n",
       "        text-align: right;\n",
       "    }\n",
       "</style>\n",
       "<table border=\"1\" class=\"dataframe\">\n",
       "  <thead>\n",
       "    <tr style=\"text-align: right;\">\n",
       "      <th></th>\n",
       "      <th>Dimensions.Height</th>\n",
       "      <th>Dimensions.Length</th>\n",
       "      <th>Dimensions.Width</th>\n",
       "      <th>Engine Information.Driveline</th>\n",
       "      <th>Engine Information.Engine Type</th>\n",
       "      <th>Engine Information.Hybrid</th>\n",
       "      <th>Engine Information.Number of Forward Gears</th>\n",
       "      <th>Engine Information.Transmission</th>\n",
       "      <th>Fuel Information.City mpg</th>\n",
       "      <th>Fuel Information.Fuel Type</th>\n",
       "      <th>Fuel Information.Highway mpg</th>\n",
       "      <th>Identification.Classification</th>\n",
       "      <th>Identification.ID</th>\n",
       "      <th>Identification.Make</th>\n",
       "      <th>Identification.Model Year</th>\n",
       "      <th>Identification.Year</th>\n",
       "      <th>Engine Information.Engine Statistics.Horsepower</th>\n",
       "      <th>Engine Information.Engine Statistics.Torque</th>\n",
       "    </tr>\n",
       "  </thead>\n",
       "  <tbody>\n",
       "    <tr>\n",
       "      <th>0</th>\n",
       "      <td>140</td>\n",
       "      <td>143</td>\n",
       "      <td>202</td>\n",
       "      <td>All-wheel drive</td>\n",
       "      <td>Audi 3.2L 6 cylinder 250hp 236ft-lbs</td>\n",
       "      <td>True</td>\n",
       "      <td>6</td>\n",
       "      <td>6 Speed Automatic Select Shift</td>\n",
       "      <td>18</td>\n",
       "      <td>Gasoline</td>\n",
       "      <td>25</td>\n",
       "      <td>Automatic transmission</td>\n",
       "      <td>2009 Audi A3 3.2</td>\n",
       "      <td>Audi</td>\n",
       "      <td>2009 Audi A3</td>\n",
       "      <td>2009</td>\n",
       "      <td>250</td>\n",
       "      <td>236</td>\n",
       "    </tr>\n",
       "    <tr>\n",
       "      <th>1</th>\n",
       "      <td>140</td>\n",
       "      <td>143</td>\n",
       "      <td>202</td>\n",
       "      <td>Front-wheel drive</td>\n",
       "      <td>Audi 2.0L 4 cylinder 200 hp 207 ft-lbs Turbo</td>\n",
       "      <td>True</td>\n",
       "      <td>6</td>\n",
       "      <td>6 Speed Automatic Select Shift</td>\n",
       "      <td>22</td>\n",
       "      <td>Gasoline</td>\n",
       "      <td>28</td>\n",
       "      <td>Automatic transmission</td>\n",
       "      <td>2009 Audi A3 2.0 T AT</td>\n",
       "      <td>Audi</td>\n",
       "      <td>2009 Audi A3</td>\n",
       "      <td>2009</td>\n",
       "      <td>200</td>\n",
       "      <td>207</td>\n",
       "    </tr>\n",
       "    <tr>\n",
       "      <th>2</th>\n",
       "      <td>140</td>\n",
       "      <td>143</td>\n",
       "      <td>202</td>\n",
       "      <td>Front-wheel drive</td>\n",
       "      <td>Audi 2.0L 4 cylinder 200 hp 207 ft-lbs Turbo</td>\n",
       "      <td>True</td>\n",
       "      <td>6</td>\n",
       "      <td>6 Speed Manual</td>\n",
       "      <td>21</td>\n",
       "      <td>Gasoline</td>\n",
       "      <td>30</td>\n",
       "      <td>Manual transmission</td>\n",
       "      <td>2009 Audi A3 2.0 T</td>\n",
       "      <td>Audi</td>\n",
       "      <td>2009 Audi A3</td>\n",
       "      <td>2009</td>\n",
       "      <td>200</td>\n",
       "      <td>207</td>\n",
       "    </tr>\n",
       "    <tr>\n",
       "      <th>3</th>\n",
       "      <td>140</td>\n",
       "      <td>143</td>\n",
       "      <td>202</td>\n",
       "      <td>All-wheel drive</td>\n",
       "      <td>Audi 2.0L 4 cylinder 200 hp 207 ft-lbs Turbo</td>\n",
       "      <td>True</td>\n",
       "      <td>6</td>\n",
       "      <td>6 Speed Automatic Select Shift</td>\n",
       "      <td>21</td>\n",
       "      <td>Gasoline</td>\n",
       "      <td>28</td>\n",
       "      <td>Automatic transmission</td>\n",
       "      <td>2009 Audi A3 2.0 T Quattro</td>\n",
       "      <td>Audi</td>\n",
       "      <td>2009 Audi A3</td>\n",
       "      <td>2009</td>\n",
       "      <td>200</td>\n",
       "      <td>207</td>\n",
       "    </tr>\n",
       "    <tr>\n",
       "      <th>4</th>\n",
       "      <td>140</td>\n",
       "      <td>143</td>\n",
       "      <td>202</td>\n",
       "      <td>All-wheel drive</td>\n",
       "      <td>Audi 2.0L 4 cylinder 200 hp 207 ft-lbs Turbo</td>\n",
       "      <td>True</td>\n",
       "      <td>6</td>\n",
       "      <td>6 Speed Automatic Select Shift</td>\n",
       "      <td>21</td>\n",
       "      <td>Gasoline</td>\n",
       "      <td>28</td>\n",
       "      <td>Automatic transmission</td>\n",
       "      <td>2009 Audi A3 2.0 T Quattro</td>\n",
       "      <td>Audi</td>\n",
       "      <td>2009 Audi A3</td>\n",
       "      <td>2009</td>\n",
       "      <td>200</td>\n",
       "      <td>207</td>\n",
       "    </tr>\n",
       "  </tbody>\n",
       "</table>\n",
       "</div>"
      ],
      "text/plain": [
       "   Dimensions.Height  Dimensions.Length  Dimensions.Width  \\\n",
       "0                140                143               202   \n",
       "1                140                143               202   \n",
       "2                140                143               202   \n",
       "3                140                143               202   \n",
       "4                140                143               202   \n",
       "\n",
       "  Engine Information.Driveline                Engine Information.Engine Type  \\\n",
       "0              All-wheel drive          Audi 3.2L 6 cylinder 250hp 236ft-lbs   \n",
       "1            Front-wheel drive  Audi 2.0L 4 cylinder 200 hp 207 ft-lbs Turbo   \n",
       "2            Front-wheel drive  Audi 2.0L 4 cylinder 200 hp 207 ft-lbs Turbo   \n",
       "3              All-wheel drive  Audi 2.0L 4 cylinder 200 hp 207 ft-lbs Turbo   \n",
       "4              All-wheel drive  Audi 2.0L 4 cylinder 200 hp 207 ft-lbs Turbo   \n",
       "\n",
       "   Engine Information.Hybrid  Engine Information.Number of Forward Gears  \\\n",
       "0                       True                                           6   \n",
       "1                       True                                           6   \n",
       "2                       True                                           6   \n",
       "3                       True                                           6   \n",
       "4                       True                                           6   \n",
       "\n",
       "  Engine Information.Transmission  Fuel Information.City mpg  \\\n",
       "0  6 Speed Automatic Select Shift                         18   \n",
       "1  6 Speed Automatic Select Shift                         22   \n",
       "2                  6 Speed Manual                         21   \n",
       "3  6 Speed Automatic Select Shift                         21   \n",
       "4  6 Speed Automatic Select Shift                         21   \n",
       "\n",
       "  Fuel Information.Fuel Type  Fuel Information.Highway mpg  \\\n",
       "0                   Gasoline                            25   \n",
       "1                   Gasoline                            28   \n",
       "2                   Gasoline                            30   \n",
       "3                   Gasoline                            28   \n",
       "4                   Gasoline                            28   \n",
       "\n",
       "  Identification.Classification           Identification.ID  \\\n",
       "0        Automatic transmission            2009 Audi A3 3.2   \n",
       "1        Automatic transmission       2009 Audi A3 2.0 T AT   \n",
       "2           Manual transmission          2009 Audi A3 2.0 T   \n",
       "3        Automatic transmission  2009 Audi A3 2.0 T Quattro   \n",
       "4        Automatic transmission  2009 Audi A3 2.0 T Quattro   \n",
       "\n",
       "  Identification.Make Identification.Model Year  Identification.Year  \\\n",
       "0                Audi              2009 Audi A3                 2009   \n",
       "1                Audi              2009 Audi A3                 2009   \n",
       "2                Audi              2009 Audi A3                 2009   \n",
       "3                Audi              2009 Audi A3                 2009   \n",
       "4                Audi              2009 Audi A3                 2009   \n",
       "\n",
       "   Engine Information.Engine Statistics.Horsepower  \\\n",
       "0                                              250   \n",
       "1                                              200   \n",
       "2                                              200   \n",
       "3                                              200   \n",
       "4                                              200   \n",
       "\n",
       "   Engine Information.Engine Statistics.Torque  \n",
       "0                                          236  \n",
       "1                                          207  \n",
       "2                                          207  \n",
       "3                                          207  \n",
       "4                                          207  "
      ]
     },
     "execution_count": 93,
     "metadata": {},
     "output_type": "execute_result"
    }
   ],
   "source": [
    "df = pd.read_csv(\"cars.csv\") # Use Pandas to read in the car dataset \"cars.csv\"\n",
    "df.head()                    # Get the first 5 rows of this dataframe"
   ]
  },
  {
   "cell_type": "code",
   "execution_count": 94,
   "metadata": {},
   "outputs": [
    {
     "data": {
      "text/html": [
       "<div>\n",
       "<style scoped>\n",
       "    .dataframe tbody tr th:only-of-type {\n",
       "        vertical-align: middle;\n",
       "    }\n",
       "\n",
       "    .dataframe tbody tr th {\n",
       "        vertical-align: top;\n",
       "    }\n",
       "\n",
       "    .dataframe thead th {\n",
       "        text-align: right;\n",
       "    }\n",
       "</style>\n",
       "<table border=\"1\" class=\"dataframe\">\n",
       "  <thead>\n",
       "    <tr style=\"text-align: right;\">\n",
       "      <th></th>\n",
       "      <th>Dimensions.Height</th>\n",
       "      <th>Dimensions.Length</th>\n",
       "      <th>Dimensions.Width</th>\n",
       "      <th>Engine Information.Driveline</th>\n",
       "      <th>Engine Information.Engine Type</th>\n",
       "      <th>Engine Information.Hybrid</th>\n",
       "      <th>Engine Information.Number of Forward Gears</th>\n",
       "      <th>Engine Information.Transmission</th>\n",
       "      <th>Fuel Information.City mpg</th>\n",
       "      <th>Fuel Information.Fuel Type</th>\n",
       "      <th>Fuel Information.Highway mpg</th>\n",
       "      <th>Identification.Classification</th>\n",
       "      <th>Identification.ID</th>\n",
       "      <th>Identification.Make</th>\n",
       "      <th>Identification.Model Year</th>\n",
       "      <th>Identification.Year</th>\n",
       "      <th>Engine Information.Engine Statistics.Horsepower</th>\n",
       "      <th>Engine Information.Engine Statistics.Torque</th>\n",
       "    </tr>\n",
       "  </thead>\n",
       "  <tbody>\n",
       "    <tr>\n",
       "      <th>5071</th>\n",
       "      <td>13</td>\n",
       "      <td>253</td>\n",
       "      <td>201</td>\n",
       "      <td>Front-wheel drive</td>\n",
       "      <td>Honda 3.5L 6 Cylinder 250 hp 253 ft-lbs</td>\n",
       "      <td>True</td>\n",
       "      <td>5</td>\n",
       "      <td>5 Speed Automatic</td>\n",
       "      <td>18</td>\n",
       "      <td>Gasoline</td>\n",
       "      <td>25</td>\n",
       "      <td>Automatic transmission</td>\n",
       "      <td>2012 Honda Pilot EX-L</td>\n",
       "      <td>Honda</td>\n",
       "      <td>2012 Honda Pilot</td>\n",
       "      <td>2012</td>\n",
       "      <td>250</td>\n",
       "      <td>253</td>\n",
       "    </tr>\n",
       "    <tr>\n",
       "      <th>5072</th>\n",
       "      <td>141</td>\n",
       "      <td>249</td>\n",
       "      <td>108</td>\n",
       "      <td>All-wheel drive</td>\n",
       "      <td>Lamborghini 5.2L 10 cylinder 552 hp 398 ft-lbs</td>\n",
       "      <td>True</td>\n",
       "      <td>6</td>\n",
       "      <td>6 Speed Manual</td>\n",
       "      <td>12</td>\n",
       "      <td>Gasoline</td>\n",
       "      <td>20</td>\n",
       "      <td>Manual transmission</td>\n",
       "      <td>2012 Lamborghini Gallardo Coupe LP 560-4</td>\n",
       "      <td>Lamborghini</td>\n",
       "      <td>2012 Lamborghini Gallardo Coup</td>\n",
       "      <td>2012</td>\n",
       "      <td>552</td>\n",
       "      <td>398</td>\n",
       "    </tr>\n",
       "    <tr>\n",
       "      <th>5073</th>\n",
       "      <td>160</td>\n",
       "      <td>249</td>\n",
       "      <td>108</td>\n",
       "      <td>All-wheel drive</td>\n",
       "      <td>Lamborghini 5.2L 10 cylinder 552 hp 398 ft-lbs</td>\n",
       "      <td>True</td>\n",
       "      <td>6</td>\n",
       "      <td>6 Speed Manual</td>\n",
       "      <td>12</td>\n",
       "      <td>Gasoline</td>\n",
       "      <td>20</td>\n",
       "      <td>Manual transmission</td>\n",
       "      <td>2012 Lamborghini Gallardo LP 560-4 Spyder</td>\n",
       "      <td>Lamborghini</td>\n",
       "      <td>2012 Lamborghini Gallardo Spyder</td>\n",
       "      <td>2012</td>\n",
       "      <td>552</td>\n",
       "      <td>398</td>\n",
       "    </tr>\n",
       "    <tr>\n",
       "      <th>5074</th>\n",
       "      <td>200</td>\n",
       "      <td>210</td>\n",
       "      <td>110</td>\n",
       "      <td>Rear-wheel drive</td>\n",
       "      <td>BMW 3.0L 6 cylinder 315hp 330 ft-lbs Turbo</td>\n",
       "      <td>True</td>\n",
       "      <td>6</td>\n",
       "      <td>6 Speed Automatic Select Shift</td>\n",
       "      <td>17</td>\n",
       "      <td>Gasoline</td>\n",
       "      <td>25</td>\n",
       "      <td>Automatic transmission</td>\n",
       "      <td>2012 BMW 740i Sedan</td>\n",
       "      <td>BMW</td>\n",
       "      <td>2012 BMW 7 Series</td>\n",
       "      <td>2012</td>\n",
       "      <td>315</td>\n",
       "      <td>330</td>\n",
       "    </tr>\n",
       "    <tr>\n",
       "      <th>5075</th>\n",
       "      <td>200</td>\n",
       "      <td>94</td>\n",
       "      <td>110</td>\n",
       "      <td>Rear-wheel drive</td>\n",
       "      <td>BMW 3.0L 6 cylinder 315hp 330 ft-lbs Turbo</td>\n",
       "      <td>True</td>\n",
       "      <td>6</td>\n",
       "      <td>6 Speed Automatic Select Shift</td>\n",
       "      <td>17</td>\n",
       "      <td>Gasoline</td>\n",
       "      <td>25</td>\n",
       "      <td>Automatic transmission</td>\n",
       "      <td>2012 BMW 740Li Sedan</td>\n",
       "      <td>BMW</td>\n",
       "      <td>2012 BMW 7 Series</td>\n",
       "      <td>2012</td>\n",
       "      <td>315</td>\n",
       "      <td>330</td>\n",
       "    </tr>\n",
       "  </tbody>\n",
       "</table>\n",
       "</div>"
      ],
      "text/plain": [
       "      Dimensions.Height  Dimensions.Length  Dimensions.Width  \\\n",
       "5071                 13                253               201   \n",
       "5072                141                249               108   \n",
       "5073                160                249               108   \n",
       "5074                200                210               110   \n",
       "5075                200                 94               110   \n",
       "\n",
       "     Engine Information.Driveline  \\\n",
       "5071            Front-wheel drive   \n",
       "5072              All-wheel drive   \n",
       "5073              All-wheel drive   \n",
       "5074             Rear-wheel drive   \n",
       "5075             Rear-wheel drive   \n",
       "\n",
       "                      Engine Information.Engine Type  \\\n",
       "5071         Honda 3.5L 6 Cylinder 250 hp 253 ft-lbs   \n",
       "5072  Lamborghini 5.2L 10 cylinder 552 hp 398 ft-lbs   \n",
       "5073  Lamborghini 5.2L 10 cylinder 552 hp 398 ft-lbs   \n",
       "5074      BMW 3.0L 6 cylinder 315hp 330 ft-lbs Turbo   \n",
       "5075      BMW 3.0L 6 cylinder 315hp 330 ft-lbs Turbo   \n",
       "\n",
       "      Engine Information.Hybrid  Engine Information.Number of Forward Gears  \\\n",
       "5071                       True                                           5   \n",
       "5072                       True                                           6   \n",
       "5073                       True                                           6   \n",
       "5074                       True                                           6   \n",
       "5075                       True                                           6   \n",
       "\n",
       "     Engine Information.Transmission  Fuel Information.City mpg  \\\n",
       "5071               5 Speed Automatic                         18   \n",
       "5072                  6 Speed Manual                         12   \n",
       "5073                  6 Speed Manual                         12   \n",
       "5074  6 Speed Automatic Select Shift                         17   \n",
       "5075  6 Speed Automatic Select Shift                         17   \n",
       "\n",
       "     Fuel Information.Fuel Type  Fuel Information.Highway mpg  \\\n",
       "5071                   Gasoline                            25   \n",
       "5072                   Gasoline                            20   \n",
       "5073                   Gasoline                            20   \n",
       "5074                   Gasoline                            25   \n",
       "5075                   Gasoline                            25   \n",
       "\n",
       "     Identification.Classification                          Identification.ID  \\\n",
       "5071        Automatic transmission                      2012 Honda Pilot EX-L   \n",
       "5072           Manual transmission   2012 Lamborghini Gallardo Coupe LP 560-4   \n",
       "5073           Manual transmission  2012 Lamborghini Gallardo LP 560-4 Spyder   \n",
       "5074        Automatic transmission                        2012 BMW 740i Sedan   \n",
       "5075        Automatic transmission                       2012 BMW 740Li Sedan   \n",
       "\n",
       "     Identification.Make         Identification.Model Year  \\\n",
       "5071               Honda                  2012 Honda Pilot   \n",
       "5072         Lamborghini    2012 Lamborghini Gallardo Coup   \n",
       "5073         Lamborghini  2012 Lamborghini Gallardo Spyder   \n",
       "5074                 BMW                 2012 BMW 7 Series   \n",
       "5075                 BMW                 2012 BMW 7 Series   \n",
       "\n",
       "      Identification.Year  Engine Information.Engine Statistics.Horsepower  \\\n",
       "5071                 2012                                              250   \n",
       "5072                 2012                                              552   \n",
       "5073                 2012                                              552   \n",
       "5074                 2012                                              315   \n",
       "5075                 2012                                              315   \n",
       "\n",
       "      Engine Information.Engine Statistics.Torque  \n",
       "5071                                          253  \n",
       "5072                                          398  \n",
       "5073                                          398  \n",
       "5074                                          330  \n",
       "5075                                          330  "
      ]
     },
     "execution_count": 94,
     "metadata": {},
     "output_type": "execute_result"
    }
   ],
   "source": [
    "df.tail()"
   ]
  },
  {
   "cell_type": "code",
   "execution_count": 95,
   "metadata": {},
   "outputs": [
    {
     "data": {
      "text/plain": [
       "(5076, 18)"
      ]
     },
     "execution_count": 95,
     "metadata": {},
     "output_type": "execute_result"
    }
   ],
   "source": [
    "df.shape      # report the size of this dataframe"
   ]
  },
  {
   "cell_type": "code",
   "execution_count": 96,
   "metadata": {},
   "outputs": [
    {
     "data": {
      "text/html": [
       "<div>\n",
       "<style scoped>\n",
       "    .dataframe tbody tr th:only-of-type {\n",
       "        vertical-align: middle;\n",
       "    }\n",
       "\n",
       "    .dataframe tbody tr th {\n",
       "        vertical-align: top;\n",
       "    }\n",
       "\n",
       "    .dataframe thead th {\n",
       "        text-align: right;\n",
       "    }\n",
       "</style>\n",
       "<table border=\"1\" class=\"dataframe\">\n",
       "  <thead>\n",
       "    <tr style=\"text-align: right;\">\n",
       "      <th></th>\n",
       "      <th>Dimensions.Height</th>\n",
       "      <th>Dimensions.Length</th>\n",
       "      <th>Dimensions.Width</th>\n",
       "      <th>Engine Information.Number of Forward Gears</th>\n",
       "      <th>Fuel Information.City mpg</th>\n",
       "      <th>Fuel Information.Highway mpg</th>\n",
       "      <th>Identification.Year</th>\n",
       "      <th>Engine Information.Engine Statistics.Horsepower</th>\n",
       "      <th>Engine Information.Engine Statistics.Torque</th>\n",
       "    </tr>\n",
       "  </thead>\n",
       "  <tbody>\n",
       "    <tr>\n",
       "      <th>count</th>\n",
       "      <td>5076.000000</td>\n",
       "      <td>5076.000000</td>\n",
       "      <td>5076.000000</td>\n",
       "      <td>5076.000000</td>\n",
       "      <td>5076.000000</td>\n",
       "      <td>5076.000000</td>\n",
       "      <td>5076.000000</td>\n",
       "      <td>5076.000000</td>\n",
       "      <td>5076.000000</td>\n",
       "    </tr>\n",
       "    <tr>\n",
       "      <th>mean</th>\n",
       "      <td>145.632191</td>\n",
       "      <td>127.825847</td>\n",
       "      <td>144.012411</td>\n",
       "      <td>5.519110</td>\n",
       "      <td>17.275808</td>\n",
       "      <td>24.125493</td>\n",
       "      <td>2010.867612</td>\n",
       "      <td>270.499409</td>\n",
       "      <td>272.707250</td>\n",
       "    </tr>\n",
       "    <tr>\n",
       "      <th>std</th>\n",
       "      <td>62.125026</td>\n",
       "      <td>77.358295</td>\n",
       "      <td>79.925899</td>\n",
       "      <td>0.845637</td>\n",
       "      <td>4.479485</td>\n",
       "      <td>6.488293</td>\n",
       "      <td>0.782951</td>\n",
       "      <td>95.293537</td>\n",
       "      <td>100.123328</td>\n",
       "    </tr>\n",
       "    <tr>\n",
       "      <th>min</th>\n",
       "      <td>1.000000</td>\n",
       "      <td>2.000000</td>\n",
       "      <td>1.000000</td>\n",
       "      <td>4.000000</td>\n",
       "      <td>8.000000</td>\n",
       "      <td>11.000000</td>\n",
       "      <td>2009.000000</td>\n",
       "      <td>100.000000</td>\n",
       "      <td>98.000000</td>\n",
       "    </tr>\n",
       "    <tr>\n",
       "      <th>25%</th>\n",
       "      <td>104.000000</td>\n",
       "      <td>60.000000</td>\n",
       "      <td>62.000000</td>\n",
       "      <td>5.000000</td>\n",
       "      <td>14.000000</td>\n",
       "      <td>20.000000</td>\n",
       "      <td>2010.000000</td>\n",
       "      <td>190.000000</td>\n",
       "      <td>187.000000</td>\n",
       "    </tr>\n",
       "    <tr>\n",
       "      <th>50%</th>\n",
       "      <td>152.000000</td>\n",
       "      <td>128.000000</td>\n",
       "      <td>158.000000</td>\n",
       "      <td>6.000000</td>\n",
       "      <td>17.000000</td>\n",
       "      <td>24.000000</td>\n",
       "      <td>2011.000000</td>\n",
       "      <td>266.000000</td>\n",
       "      <td>260.000000</td>\n",
       "    </tr>\n",
       "    <tr>\n",
       "      <th>75%</th>\n",
       "      <td>193.000000</td>\n",
       "      <td>198.000000</td>\n",
       "      <td>219.000000</td>\n",
       "      <td>6.000000</td>\n",
       "      <td>20.000000</td>\n",
       "      <td>28.000000</td>\n",
       "      <td>2011.000000</td>\n",
       "      <td>317.000000</td>\n",
       "      <td>335.000000</td>\n",
       "    </tr>\n",
       "    <tr>\n",
       "      <th>max</th>\n",
       "      <td>255.000000</td>\n",
       "      <td>255.000000</td>\n",
       "      <td>254.000000</td>\n",
       "      <td>8.000000</td>\n",
       "      <td>38.000000</td>\n",
       "      <td>223.000000</td>\n",
       "      <td>2012.000000</td>\n",
       "      <td>638.000000</td>\n",
       "      <td>774.000000</td>\n",
       "    </tr>\n",
       "  </tbody>\n",
       "</table>\n",
       "</div>"
      ],
      "text/plain": [
       "       Dimensions.Height  Dimensions.Length  Dimensions.Width  \\\n",
       "count        5076.000000        5076.000000       5076.000000   \n",
       "mean          145.632191         127.825847        144.012411   \n",
       "std            62.125026          77.358295         79.925899   \n",
       "min             1.000000           2.000000          1.000000   \n",
       "25%           104.000000          60.000000         62.000000   \n",
       "50%           152.000000         128.000000        158.000000   \n",
       "75%           193.000000         198.000000        219.000000   \n",
       "max           255.000000         255.000000        254.000000   \n",
       "\n",
       "       Engine Information.Number of Forward Gears  Fuel Information.City mpg  \\\n",
       "count                                 5076.000000                5076.000000   \n",
       "mean                                     5.519110                  17.275808   \n",
       "std                                      0.845637                   4.479485   \n",
       "min                                      4.000000                   8.000000   \n",
       "25%                                      5.000000                  14.000000   \n",
       "50%                                      6.000000                  17.000000   \n",
       "75%                                      6.000000                  20.000000   \n",
       "max                                      8.000000                  38.000000   \n",
       "\n",
       "       Fuel Information.Highway mpg  Identification.Year  \\\n",
       "count                   5076.000000          5076.000000   \n",
       "mean                      24.125493          2010.867612   \n",
       "std                        6.488293             0.782951   \n",
       "min                       11.000000          2009.000000   \n",
       "25%                       20.000000          2010.000000   \n",
       "50%                       24.000000          2011.000000   \n",
       "75%                       28.000000          2011.000000   \n",
       "max                      223.000000          2012.000000   \n",
       "\n",
       "       Engine Information.Engine Statistics.Horsepower  \\\n",
       "count                                      5076.000000   \n",
       "mean                                        270.499409   \n",
       "std                                          95.293537   \n",
       "min                                         100.000000   \n",
       "25%                                         190.000000   \n",
       "50%                                         266.000000   \n",
       "75%                                         317.000000   \n",
       "max                                         638.000000   \n",
       "\n",
       "       Engine Information.Engine Statistics.Torque  \n",
       "count                                  5076.000000  \n",
       "mean                                    272.707250  \n",
       "std                                     100.123328  \n",
       "min                                      98.000000  \n",
       "25%                                     187.000000  \n",
       "50%                                     260.000000  \n",
       "75%                                     335.000000  \n",
       "max                                     774.000000  "
      ]
     },
     "execution_count": 96,
     "metadata": {},
     "output_type": "execute_result"
    }
   ],
   "source": [
    "df.describe() # provides a brief statistical dataframe summary"
   ]
  },
  {
   "cell_type": "code",
   "execution_count": 97,
   "metadata": {},
   "outputs": [
    {
     "data": {
      "text/plain": [
       "Dimensions.Height                                   int64\n",
       "Dimensions.Length                                   int64\n",
       "Dimensions.Width                                    int64\n",
       "Engine Information.Driveline                       object\n",
       "Engine Information.Engine Type                     object\n",
       "Engine Information.Hybrid                            bool\n",
       "Engine Information.Number of Forward Gears          int64\n",
       "Engine Information.Transmission                    object\n",
       "Fuel Information.City mpg                           int64\n",
       "Fuel Information.Fuel Type                         object\n",
       "Fuel Information.Highway mpg                        int64\n",
       "Identification.Classification                      object\n",
       "Identification.ID                                  object\n",
       "Identification.Make                                object\n",
       "Identification.Model Year                          object\n",
       "Identification.Year                                 int64\n",
       "Engine Information.Engine Statistics.Horsepower     int64\n",
       "Engine Information.Engine Statistics.Torque         int64\n",
       "dtype: object"
      ]
     },
     "execution_count": 97,
     "metadata": {},
     "output_type": "execute_result"
    }
   ],
   "source": [
    "df.dtypes"
   ]
  },
  {
   "cell_type": "markdown",
   "metadata": {},
   "source": [
    "__Question 1 (0.5')__: Some attributes are not included in the statistical summary, why? <br>\n",
    "Please record your answers on lab2 on SLATE quiz tool. <br>\n",
    "__Ans:__ The reason why some attributes are not included in the statistical summary is because describe() is a pandas function that only provides summary statistics of the numerical columns (attributes) contained in the dataset. From the given dataset (cars.csv), we only have 9 numerical columns of Integer datatype as shown using df.dtypes. <br>\n",
    "\n",
    "__Question 2 (0.5')__: How many attributes does this dataframe have? <br>\n",
    "Please record your answers on lab2 on SLATE quiz tool. <br>\n",
    "__Ans:__ From the result returned using the df.shape method, this dataframe has eighteen (18) attributes.\n",
    "\n",
    "__Question 3 (0.5')__: How many observations does this dataframe have? <br>\n",
    "__Ans:__ From the result returned using the df.shape method, this dataframe has 5076 observations.\n",
    "Please record your answers on lab2 on SLATE quiz tool. <br>\n"
   ]
  },
  {
   "cell_type": "markdown",
   "metadata": {},
   "source": [
    "Now you may choose some features for further analysis. It can be implemented by choosing a certain column."
   ]
  },
  {
   "cell_type": "code",
   "execution_count": 98,
   "metadata": {},
   "outputs": [
    {
     "data": {
      "text/html": [
       "<div>\n",
       "<style scoped>\n",
       "    .dataframe tbody tr th:only-of-type {\n",
       "        vertical-align: middle;\n",
       "    }\n",
       "\n",
       "    .dataframe tbody tr th {\n",
       "        vertical-align: top;\n",
       "    }\n",
       "\n",
       "    .dataframe thead th {\n",
       "        text-align: right;\n",
       "    }\n",
       "</style>\n",
       "<table border=\"1\" class=\"dataframe\">\n",
       "  <thead>\n",
       "    <tr style=\"text-align: right;\">\n",
       "      <th></th>\n",
       "      <th>Engine Information.Number of Forward Gears</th>\n",
       "      <th>Fuel Information.City mpg</th>\n",
       "      <th>Fuel Information.Highway mpg</th>\n",
       "      <th>Engine Information.Engine Statistics.Horsepower</th>\n",
       "      <th>Engine Information.Engine Statistics.Torque</th>\n",
       "    </tr>\n",
       "  </thead>\n",
       "  <tbody>\n",
       "    <tr>\n",
       "      <th>0</th>\n",
       "      <td>6</td>\n",
       "      <td>18</td>\n",
       "      <td>25</td>\n",
       "      <td>250</td>\n",
       "      <td>236</td>\n",
       "    </tr>\n",
       "    <tr>\n",
       "      <th>1</th>\n",
       "      <td>6</td>\n",
       "      <td>22</td>\n",
       "      <td>28</td>\n",
       "      <td>200</td>\n",
       "      <td>207</td>\n",
       "    </tr>\n",
       "    <tr>\n",
       "      <th>2</th>\n",
       "      <td>6</td>\n",
       "      <td>21</td>\n",
       "      <td>30</td>\n",
       "      <td>200</td>\n",
       "      <td>207</td>\n",
       "    </tr>\n",
       "    <tr>\n",
       "      <th>3</th>\n",
       "      <td>6</td>\n",
       "      <td>21</td>\n",
       "      <td>28</td>\n",
       "      <td>200</td>\n",
       "      <td>207</td>\n",
       "    </tr>\n",
       "    <tr>\n",
       "      <th>4</th>\n",
       "      <td>6</td>\n",
       "      <td>21</td>\n",
       "      <td>28</td>\n",
       "      <td>200</td>\n",
       "      <td>207</td>\n",
       "    </tr>\n",
       "  </tbody>\n",
       "</table>\n",
       "</div>"
      ],
      "text/plain": [
       "   Engine Information.Number of Forward Gears  Fuel Information.City mpg  \\\n",
       "0                                           6                         18   \n",
       "1                                           6                         22   \n",
       "2                                           6                         21   \n",
       "3                                           6                         21   \n",
       "4                                           6                         21   \n",
       "\n",
       "   Fuel Information.Highway mpg  \\\n",
       "0                            25   \n",
       "1                            28   \n",
       "2                            30   \n",
       "3                            28   \n",
       "4                            28   \n",
       "\n",
       "   Engine Information.Engine Statistics.Horsepower  \\\n",
       "0                                              250   \n",
       "1                                              200   \n",
       "2                                              200   \n",
       "3                                              200   \n",
       "4                                              200   \n",
       "\n",
       "   Engine Information.Engine Statistics.Torque  \n",
       "0                                          236  \n",
       "1                                          207  \n",
       "2                                          207  \n",
       "3                                          207  \n",
       "4                                          207  "
      ]
     },
     "execution_count": 98,
     "metadata": {},
     "output_type": "execute_result"
    }
   ],
   "source": [
    "new_df = df[['Engine Information.Number of Forward Gears','Fuel Information.City mpg','Fuel Information.Highway mpg','Engine Information.Engine Statistics.Horsepower','Engine Information.Engine Statistics.Torque']]\n",
    "new_df.head()"
   ]
  },
  {
   "cell_type": "markdown",
   "metadata": {},
   "source": [
    "Everything looks good, except the attribute names are way too long. Let's change them. "
   ]
  },
  {
   "cell_type": "code",
   "execution_count": 99,
   "metadata": {},
   "outputs": [
    {
     "data": {
      "text/html": [
       "<div>\n",
       "<style scoped>\n",
       "    .dataframe tbody tr th:only-of-type {\n",
       "        vertical-align: middle;\n",
       "    }\n",
       "\n",
       "    .dataframe tbody tr th {\n",
       "        vertical-align: top;\n",
       "    }\n",
       "\n",
       "    .dataframe thead th {\n",
       "        text-align: right;\n",
       "    }\n",
       "</style>\n",
       "<table border=\"1\" class=\"dataframe\">\n",
       "  <thead>\n",
       "    <tr style=\"text-align: right;\">\n",
       "      <th></th>\n",
       "      <th>Gears</th>\n",
       "      <th>CityMPG</th>\n",
       "      <th>HighwayMPG</th>\n",
       "      <th>Horsepower</th>\n",
       "      <th>Torque</th>\n",
       "    </tr>\n",
       "  </thead>\n",
       "  <tbody>\n",
       "    <tr>\n",
       "      <th>0</th>\n",
       "      <td>6</td>\n",
       "      <td>18</td>\n",
       "      <td>25</td>\n",
       "      <td>250</td>\n",
       "      <td>236</td>\n",
       "    </tr>\n",
       "    <tr>\n",
       "      <th>1</th>\n",
       "      <td>6</td>\n",
       "      <td>22</td>\n",
       "      <td>28</td>\n",
       "      <td>200</td>\n",
       "      <td>207</td>\n",
       "    </tr>\n",
       "    <tr>\n",
       "      <th>2</th>\n",
       "      <td>6</td>\n",
       "      <td>21</td>\n",
       "      <td>30</td>\n",
       "      <td>200</td>\n",
       "      <td>207</td>\n",
       "    </tr>\n",
       "    <tr>\n",
       "      <th>3</th>\n",
       "      <td>6</td>\n",
       "      <td>21</td>\n",
       "      <td>28</td>\n",
       "      <td>200</td>\n",
       "      <td>207</td>\n",
       "    </tr>\n",
       "    <tr>\n",
       "      <th>4</th>\n",
       "      <td>6</td>\n",
       "      <td>21</td>\n",
       "      <td>28</td>\n",
       "      <td>200</td>\n",
       "      <td>207</td>\n",
       "    </tr>\n",
       "  </tbody>\n",
       "</table>\n",
       "</div>"
      ],
      "text/plain": [
       "   Gears  CityMPG  HighwayMPG  Horsepower  Torque\n",
       "0      6       18          25         250     236\n",
       "1      6       22          28         200     207\n",
       "2      6       21          30         200     207\n",
       "3      6       21          28         200     207\n",
       "4      6       21          28         200     207"
      ]
     },
     "execution_count": 99,
     "metadata": {},
     "output_type": "execute_result"
    }
   ],
   "source": [
    "new_df.columns = ['Gears','CityMPG','HighwayMPG','Horsepower','Torque']\n",
    "new_df.head()"
   ]
  },
  {
   "cell_type": "markdown",
   "metadata": {},
   "source": [
    "__Question 4 (0.5')__: In order to train a prediction model for Fuel Efficiency in City (CityMPG), which features are considered the indepedent variables, which one is the dependent variable?  <br>\n",
    "Please record your answers on lab2 on SLATE quiz tool. <br>\n",
    "__Ans:__ Independent Variables also known as input variables include: Gears, Horspower, and Torque. WHILE The dependent variable (output) is CItyMPG."
   ]
  },
  {
   "cell_type": "markdown",
   "metadata": {
    "button": false,
    "new_sheet": false,
    "run_control": {
     "read_only": false
    }
   },
   "source": [
    "<a id='Data_Visualization'></a>\n",
    "<h2>3. Data_visualization</h2>\n",
    "Now the desired features are selected and their labels are changed.  Before implementing any machine learning algorithm, it is recommended that we plot these data points to ensure the range and distribution of the data are as expected and will be compatible with our model. <br>\n",
    "Today, we are going to use histogram tool and scatter plot tool to do data visualization. "
   ]
  },
  {
   "cell_type": "code",
   "execution_count": 100,
   "metadata": {},
   "outputs": [
    {
     "data": {
      "image/png": "[encoded data removed]",
      "text/plain": [
       "<Figure size 640x480 with 6 Axes>"
      ]
     },
     "metadata": {},
     "output_type": "display_data"
    }
   ],
   "source": [
    "# Plot the histograms of each feature separately. \n",
    "view = new_df[['Gears','CityMPG','HighwayMPG','Horsepower','Torque']]\n",
    "view.hist()\n",
    "plt.subplots_adjust(wspace=0.5,hspace=0.5)\n",
    "plt.show() "
   ]
  },
  {
   "cell_type": "markdown",
   "metadata": {},
   "source": [
    "__Note__: Histogram only shows the distribution of data points in each data bins.  It is not enlightening in terms of analysing the degree of linearity between the dependent and independent variables. <br>\n",
    "In order to visualize the linearity feature, it is recommended that scatter plot is used. You need to pick the x and y axis for scatterplots.  Below will create a scatterplot of Gears and CityMPG. "
   ]
  },
  {
   "cell_type": "code",
   "execution_count": 101,
   "metadata": {},
   "outputs": [
    {
     "data": {
      "image/png": "[encoded data removed]",
      "text/plain": [
       "<Figure size 640x480 with 1 Axes>"
      ]
     },
     "metadata": {},
     "output_type": "display_data"
    }
   ],
   "source": [
    "plt.scatter(new_df.Gears, new_df.CityMPG,  color='blue')\n",
    "plt.xlabel(\"Number of Gears\")\n",
    "plt.ylabel(\"City MPG\")\n",
    "plt.show()"
   ]
  },
  {
   "cell_type": "markdown",
   "metadata": {},
   "source": [
    "__Task 1 (1')__. Please use the cell below to plot the scatterplots of Horsepower vs CityMPG. <br>\n",
    "Please record your codes on lab2 on SLATE quiz tool. <br>"
   ]
  },
  {
   "cell_type": "code",
   "execution_count": 102,
   "metadata": {},
   "outputs": [
    {
     "data": {
      "text/plain": [
       "<function matplotlib.pyplot.show(close=None, block=None)>"
      ]
     },
     "execution_count": 102,
     "metadata": {},
     "output_type": "execute_result"
    },
    {
     "data": {
      "image/png": "[encoded data removed]",
      "text/plain": [
       "<Figure size 640x480 with 1 Axes>"
      ]
     },
     "metadata": {},
     "output_type": "display_data"
    }
   ],
   "source": [
    "# Write your code here\n",
    "plt.scatter(new_df.Horsepower, new_df.CityMPG, color='green')\n",
    "plt.xlabel(\"Horsepower\")\n",
    "plt.ylabel(\"City MPG\")\n",
    "plt.show\n"
   ]
  },
  {
   "cell_type": "markdown",
   "metadata": {},
   "source": [
    "Please use the cell below to plot the scatterplots of Torque vs CityMPG."
   ]
  },
  {
   "cell_type": "code",
   "execution_count": 103,
   "metadata": {},
   "outputs": [
    {
     "data": {
      "text/plain": [
       "<function matplotlib.pyplot.show(close=None, block=None)>"
      ]
     },
     "execution_count": 103,
     "metadata": {},
     "output_type": "execute_result"
    },
    {
     "data": {
      "image/png": "[encoded data removed]",
      "text/plain": [
       "<Figure size 640x480 with 1 Axes>"
      ]
     },
     "metadata": {},
     "output_type": "display_data"
    }
   ],
   "source": [
    "# Write your code here\n",
    "plt.scatter(new_df.Torque, new_df.CityMPG, color='red')\n",
    "plt.xlabel(\"Torgue\")\n",
    "plt.ylabel(\"City MPG\")\n",
    "plt.show\n"
   ]
  },
  {
   "cell_type": "markdown",
   "metadata": {},
   "source": [
    "Please use the cell below to plot the scatterplots of HighwayMPG vs CityMPG."
   ]
  },
  {
   "cell_type": "code",
   "execution_count": 104,
   "metadata": {},
   "outputs": [
    {
     "data": {
      "text/plain": [
       "<function matplotlib.pyplot.show(close=None, block=None)>"
      ]
     },
     "execution_count": 104,
     "metadata": {},
     "output_type": "execute_result"
    },
    {
     "data": {
      "image/png": "[encoded data removed]",
      "text/plain": [
       "<Figure size 640x480 with 1 Axes>"
      ]
     },
     "metadata": {},
     "output_type": "display_data"
    }
   ],
   "source": [
    "# Write your code here\n",
    "plt.scatter(new_df.HighwayMPG, new_df.CityMPG, color='violet')\n",
    "plt.xlabel(\"Highway MPG\")\n",
    "plt.ylabel(\"City MPG\")\n",
    "plt.show"
   ]
  },
  {
   "cell_type": "markdown",
   "metadata": {},
   "source": [
    "Something is not right about this dataset, we have an obvious outlier that needs to be removed. In pandas, you can drop a row of a dataframe by satisfying a conditional expression. <br>\n",
    "df = df.drop(df[boolean condition].index)"
   ]
  },
  {
   "cell_type": "code",
   "execution_count": 105,
   "metadata": {},
   "outputs": [
    {
     "data": {
      "text/plain": [
       "<function matplotlib.pyplot.show(close=None, block=None)>"
      ]
     },
     "execution_count": 105,
     "metadata": {},
     "output_type": "execute_result"
    },
    {
     "data": {
      "image/png": "[encoded data removed]",
      "text/plain": [
       "<Figure size 640x480 with 1 Axes>"
      ]
     },
     "metadata": {},
     "output_type": "display_data"
    }
   ],
   "source": [
    "new_df = new_df.drop(new_df[new_df.HighwayMPG>100].index)\n",
    "# Write your code here to visualize the result\n",
    "plt.scatter(new_df.HighwayMPG, new_df.CityMPG, color='orange')\n",
    "plt.xlabel(\"Highway MPG\")\n",
    "plt.ylabel(\"City MPG\")\n",
    "plt.show"
   ]
  },
  {
   "cell_type": "markdown",
   "metadata": {},
   "source": [
    "__Question 5 (1')__: Analyzing scatterplots shown above, which independent variable is best suited for predicting CityMPG using simple linear regression? Why?  <br>\n",
    "Please record your answers on lab2 on SLATE quiz tool. <br>\n",
    "__Ans:__ Based on the scatterplots, we can conclude that the best independent variable for predicting CityMPG using simple linear regression is HighwayMPG, as it has the strongest and most linear relationship with CityMPG. The scatterplots of HighwayMPG vs CityMPG after removing the outlier show a clear upward trend, indicating a positive linear relationship.\n"
   ]
  },
  {
   "cell_type": "markdown",
   "metadata": {},
   "source": [
    "<a id='Simple_Linear_Regression'></a>\n",
    "<h2>4. Simple Linear Regression</h2>\n",
    "\n",
    "Once you decide on the independent and dependent variable and the prediction model (simple linear regression in our case), you are ready to implement the algorithm now. <br>\n",
    "To implement simple linear regression, you need to:\n",
    "<ol>\n",
    "    <li>Split the data set into training and testing (for example, use 90% as training, and 10% as testing in our case) </li>\n",
    "    <li>Train a simple linear regression model using the training data set</li>\n",
    "    <li>Plot the linear fitting line over the original scatterplot </li>\n",
    "    <li>Use the trained model to predict y_hat of the testing dataset </li>\n",
    "    <li>Compute the MSE of your prediction on test data set</li>\n",
    "</ol>\n",
    "\n",
    "The cell below shows the code sequence to achieve that. "
   ]
  },
  {
   "cell_type": "code",
   "execution_count": 106,
   "metadata": {},
   "outputs": [],
   "source": [
    "# dataset splitting\n",
    "mask = np.random.rand(len(new_df)) < 0.9\n",
    "train = new_df[mask]\n",
    "test = new_df[~mask]"
   ]
  },
  {
   "cell_type": "code",
   "execution_count": 107,
   "metadata": {},
   "outputs": [],
   "source": [
    "# create a linear regression model and assign independant and dependant variables\n",
    "slr_model = linear_model.LinearRegression()\n",
    "train_x = np.asanyarray(train[['HighwayMPG']])\n",
    "train_y = np.asanyarray(train[['CityMPG']])"
   ]
  },
  {
   "cell_type": "code",
   "execution_count": 108,
   "metadata": {},
   "outputs": [
    {
     "name": "stdout",
     "output_type": "stream",
     "text": [
      "Beta1:  [[0.7290573]]\n",
      "Beta0:  [-0.28265682]\n",
      "Fitting equation is: y=-0.2826568206195148+x*0.7290573001705387\n"
     ]
    }
   ],
   "source": [
    "# use training dataset to train the model and find regression coefficients\n",
    "slr_model.fit (train_x, train_y)\n",
    "# The coefficients\n",
    "print ('Beta1: ', slr_model.coef_)\n",
    "print ('Beta0: ',slr_model.intercept_)\n",
    "print ('Fitting equation is: y='+str(slr_model.intercept_[0])+'+x*'+str(slr_model.coef_[0][0]))"
   ]
  },
  {
   "cell_type": "markdown",
   "metadata": {},
   "source": [
    "Now plot the linear fit on our data: "
   ]
  },
  {
   "cell_type": "code",
   "execution_count": 109,
   "metadata": {},
   "outputs": [
    {
     "data": {
      "text/plain": [
       "Text(0, 0.5, 'City MPG')"
      ]
     },
     "execution_count": 109,
     "metadata": {},
     "output_type": "execute_result"
    },
    {
     "data": {
      "image/png": "[encoded data removed]",
      "text/plain": [
       "<Figure size 640x480 with 1 Axes>"
      ]
     },
     "metadata": {},
     "output_type": "display_data"
    }
   ],
   "source": [
    "plt.scatter(train.HighwayMPG, train.CityMPG,  color='green')\n",
    "plt.plot(train_x, slr_model.coef_[0][0]*train_x + slr_model.intercept_[0], '--b')\n",
    "plt.xlabel(\"Highway MPG\")\n",
    "plt.ylabel(\"City MPG\")"
   ]
  },
  {
   "cell_type": "markdown",
   "metadata": {},
   "source": [
    "Now the linear regression model is created, we are going to use the test dataset to see how accurate our model is:"
   ]
  },
  {
   "cell_type": "code",
   "execution_count": 76,
   "metadata": {},
   "outputs": [
    {
     "name": "stdout",
     "output_type": "stream",
     "text": [
      "Mean Absolute Error: 0.96\n",
      "Mean Squared Error: 1.64\n"
     ]
    }
   ],
   "source": [
    "test_x = np.asanyarray(test[['HighwayMPG']])\n",
    "test_y = np.asanyarray(test[['CityMPG']])\n",
    "test_y_hat = slr_model.predict(test_x)\n",
    "\n",
    "print(\"Mean Absolute Error: %.2f\" % np.mean(np.absolute(test_y_hat - test_y)))\n",
    "print(\"Mean Squared Error: %.2f\" % np.mean((test_y_hat - test_y) ** 2))"
   ]
  },
  {
   "cell_type": "markdown",
   "metadata": {},
   "source": [
    "<a id='Multiple_Linear_Regression'></a>\n",
    "<h2> 5. Multiple Linear Regression </h2>\n",
    "<h3>Multiple linear regression is very useful for the following scenarios </h3>\n",
    "When you are not sure if multple independent variables will impact the modeling of the dependent variable; or when you want to evaluate the impact of individual independent variables and prioritize them.\n",
    "\n",
    "In our case, instead of focusing on only one independent variable, you can use three indepedent variables (Gears, Horsepower, Torque to predict the dependent variable CityMPG.  "
   ]
  },
  {
   "cell_type": "markdown",
   "metadata": {},
   "source": [
    "<h3> Data modeling </h3>\n",
    "\n",
    "Once you decide on the independent and dependent variable and the multiple linear regression prediction model, you are ready to implement the algorithm now. To implement multiple linear regression, the steps are similar to that of the simple linear regression:\n",
    "<ol>\n",
    "    <li>Split the data set into training and testing (for example, use 80% as training, and 20% as testing in our case) </li>\n",
    "    <li>Train a multiple linear regression model using the training data set</li>\n",
    "    <li>Use the trained model to predict y_hat of the testing dataset </li>\n",
    "    <li>Compute the error of your prediction on test data set</li>\n",
    "</ol>\n",
    "\n",
    "The cell below shows the code sequence to achieve that. "
   ]
  },
  {
   "cell_type": "code",
   "execution_count": 82,
   "metadata": {},
   "outputs": [],
   "source": [
    "mask = np.random.rand(len(new_df)) < 0.8\n",
    "train = new_df[mask]\n",
    "test = new_df[~mask]"
   ]
  },
  {
   "cell_type": "code",
   "execution_count": 88,
   "metadata": {},
   "outputs": [
    {
     "name": "stdout",
     "output_type": "stream",
     "text": [
      "Beta3: 0.78365\n",
      "Beta2: -0.03254\n",
      "Beta1: -0.00319\n",
      "Beta0: 22.67683\n"
     ]
    },
    {
     "name": "stderr",
     "output_type": "stream",
     "text": [
      "C:\\Users\\user\\AppData\\Local\\Temp\\ipykernel_34588\\3843337797.py:9: DeprecationWarning: Conversion of an array with ndim > 0 to a scalar is deprecated, and will error in future. Ensure you extract a single element from your array before performing this operation. (Deprecated NumPy 1.25.)\n",
      "  print('Beta0: '+'%.5f' % mlr_model.intercept_)\n"
     ]
    }
   ],
   "source": [
    "mlr_model = linear_model.LinearRegression()\n",
    "train_x = np.asanyarray(train[['Horsepower','Torque','Gears']])\n",
    "train_y = np.asanyarray(train[['CityMPG']])\n",
    "mlr_model.fit(train_x, train_y)\n",
    "# The coefficients\n",
    "print('Beta3: '+'%.5f' % mlr_model.coef_[0][2])\n",
    "print('Beta2: '+'%.5f' % mlr_model.coef_[0][1])\n",
    "print('Beta1: '+'%.5f' % mlr_model.coef_[0][0])\n",
    "print('Beta0: '+'%.5f' % mlr_model.intercept_)"
   ]
  },
  {
   "cell_type": "markdown",
   "metadata": {},
   "source": [
    "__Question 6 (1')__: Based on the regression coefficients, what is the fitting equation in this case? <br>\n",
    "Please record your answers on lab2 on SLATE quiz tool. <br>\n",
    "__Ans:__ Fitting equation, Y = Beta0 + Beta1+ Beta2 + Beta3 = 22.67683 + (-0.00319) + (-0.303254) + 0.78365.\n",
    "\n",
    "__Question 7 (1')__: Does a bigger regression coefficient means that the corresponding independent variable has the biggest impact? Why?  <br>\n",
    "Please record your answers on lab2 on SLATE quiz tool. <br>\n",
    "__Ans:__ No, a bigger regression coefficient does not necessarily mean that the corresponding independent variable has the biggest impact. This is because the regression coefficient measures the change in the dependent variable for a unit change in the independent variable, holding other variables constant. However, the magnitude of the regression coefficient also depends on the scale and the units of the independent variable."
   ]
  },
  {
   "cell_type": "markdown",
   "metadata": {},
   "source": [
    "<a id='K_fold_Cross_Validation'></a>\n",
    "<h2>6. K-fold Cross Validation </h2>\n",
    "Now, we have two models to predict the city fuel efficiency CityMPG.  In order to compare the two models, let's set up the K-fold cross validation. "
   ]
  },
  {
   "cell_type": "code",
   "execution_count": 89,
   "metadata": {
    "button": false,
    "new_sheet": false,
    "run_control": {
     "read_only": false
    }
   },
   "outputs": [
    {
     "name": "stdout",
     "output_type": "stream",
     "text": [
      "[-10.61452343  -7.72374462  -8.78036468  -9.53140113  -8.54975462]\n",
      "The mean reported MSE using K-fold is: -9.04\n"
     ]
    }
   ],
   "source": [
    "from sklearn.model_selection import cross_val_score\n",
    "x = np.asanyarray(new_df[['Horsepower','Torque','Gears']])\n",
    "y = np.asanyarray(new_df[['CityMPG']])\n",
    "scores = cross_val_score(mlr_model, x, y, cv=5, scoring='neg_mean_squared_error')\n",
    "print(scores)\n",
    "print('The mean reported MSE using K-fold is: %.2f' % np.mean(scores))"
   ]
  },
  {
   "cell_type": "markdown",
   "metadata": {},
   "source": [
    "__Question 8 (1')__: Why are there five MSE scores reported in this case?  <br>\n",
    "\n",
    "__Ans:__ Five MSE scores was reported because we set cv=5 in the fourth line of code above which  means that the cross_val_score function should train and test the mlr_model on the x and y arrays using a 5-fold cross-validation strategy. The cross_val_score function returns an array of scores, one for each fold of the cross-validation."
   ]
  },
  {
   "cell_type": "markdown",
   "metadata": {},
   "source": [
    "Additionally, we can use other scores such as R^2 score to evaluate the model. R^2 (coefficient of determination) is a regression score function. <br>\n",
    "Best possible score is 1.0 and it can be negative (because the model can be arbitrarily worse). A constant model that always predicts the expected value of y, disregarding the input features, would get a R^2 score of 0.0.\n",
    "Read more in the Scikit Learn User Guide from the link below: <br>\n",
    "\n",
    "<h4>R^2 Score, more to read: <a href=\"https://scikit-learn.org/stable/modules/model_evaluation.html#r2-score\">click here</a></h4>\n",
    "\n",
    "In order to use R^2 as the evaluation score, simply change the scoring parameter to 'r2'\n",
    "\n",
    "scores = cross_val_score(mlr_model, x, y, cv=5, scoring='r2') <br>"
   ]
  },
  {
   "cell_type": "markdown",
   "metadata": {},
   "source": [
    "__Task 2 (1')__: Now based on that information, please use the cell below to create a K-fold cross validation on the simple linear regression model (with R2 as the evaluation score). <br>\n",
    "Please record your code on lab2 on SLATE quiz tool. <br>"
   ]
  },
  {
   "cell_type": "code",
   "execution_count": 90,
   "metadata": {},
   "outputs": [
    {
     "name": "stdout",
     "output_type": "stream",
     "text": [
      "[0.89228359 0.84277194 0.90300655 0.87018922 0.94073041]\n",
      "The mean reported R-Squared using K-fold is: 0.89\n"
     ]
    }
   ],
   "source": [
    "# Write your code here\n",
    "from sklearn.model_selection import cross_val_score\n",
    "x2 = np.asanyarray(new_df[['HighwayMPG']])\n",
    "y2 = np.asanyarray(new_df[['CityMPG']])\n",
    "scores2 = cross_val_score(slr_model, x2, y2, cv=5, scoring='r2')\n",
    "print(scores2)\n",
    "print('The mean reported R-Squared using K-fold is: %.2f' % np.mean(scores2))"
   ]
  },
  {
   "cell_type": "markdown",
   "metadata": {},
   "source": [
    "<a id='Pactice'></a>\n",
    "<h2>7. Practice </h2>\n",
    "Now with two regresssion models completed, we have created two models to predict the city fuel efficiency CityMPG.  You can compare the models created during these exercises and decide how to improve the model. <br>\n"
   ]
  },
  {
   "cell_type": "markdown",
   "metadata": {},
   "source": [
    "__Exercise (2')__: Use the cell below to train a best model using the following requirements:\n",
    "<ol>\n",
    "    <li>Use either multiple or simple linear regression. </li>\n",
    "    <li>Carefully choose the independent variable(s) to be used in your model, they are not limited to only the hoursepower and torque. </li>\n",
    "    <li>Use K-fold cross validation with r2 score to provide rationale why your model is preferred.  </li>\n",
    "</ol>\n",
    "Please record your code on lab2 on SLATE quiz tool. <br>"
   ]
  },
  {
   "cell_type": "code",
   "execution_count": 131,
   "metadata": {},
   "outputs": [
    {
     "name": "stdout",
     "output_type": "stream",
     "text": [
      "Beta1:  [[-0.03280404]]\n",
      "Beta0:  [26.13496687]\n",
      "Fitting equation is: y=26.13496687198759+x*-0.03280404369748073\n"
     ]
    },
    {
     "data": {
      "text/plain": [
       "Text(0, 0.5, 'City MPG')"
      ]
     },
     "execution_count": 131,
     "metadata": {},
     "output_type": "execute_result"
    },
    {
     "data": {
      "image/png": "[encoded data removed]",
      "text/plain": [
       "<Figure size 640x480 with 1 Axes>"
      ]
     },
     "metadata": {},
     "output_type": "display_data"
    }
   ],
   "source": [
    "# Write your code here\n",
    "# Using Simple linear regresion, split the dataset using 85% as training, and 15% as testing\n",
    "mask2 = np.random.rand(len(new_df)) < 0.85 \n",
    "train2 = new_df[mask2]\n",
    "test2 = new_df[~mask2]\n",
    "\n",
    "# 2. Carefully choose the independent variable(s) to be used in your model\n",
    "# I choosed to make Horsepower my independent variable now because I worked with HighwayMPG in my previous SLR model.\n",
    "\n",
    "slr_model2 = linear_model.LinearRegression()\n",
    "train_x2 = np.asanyarray(train2[['Horsepower']])\n",
    "train_y2 = np.asanyarray(train2[['CityMPG']])\n",
    "\n",
    "# use training dataset to train the model and find regression coefficients\n",
    "slr_model2.fit (train_x2, train_y2)\n",
    "# The coefficients\n",
    "print ('Beta1: ', slr_model2.coef_)\n",
    "print ('Beta0: ',slr_model2.intercept_)\n",
    "print ('Fitting equation is: y='+str(slr_model2.intercept_[0])+'+x*'+str(slr_model2.coef_[0][0]))\n",
    "\n",
    "plt.scatter(train2.Horsepower, train2.CityMPG,  color='red')\n",
    "plt.plot(train_x2, slr_model2.coef_[0][0]*train_x2 + slr_model2.intercept_[0], '--b')\n",
    "plt.xlabel(\"Horsepower\")\n",
    "plt.ylabel(\"City MPG\")"
   ]
  },
  {
   "cell_type": "code",
   "execution_count": 134,
   "metadata": {},
   "outputs": [
    {
     "name": "stdout",
     "output_type": "stream",
     "text": [
      "Mean Absolute Error: 2.34\n",
      "Mean Squared Error: 8.97\n"
     ]
    }
   ],
   "source": [
    "test_x2 = np.asanyarray(test2[['Horsepower']])\n",
    "test_y2 = np.asanyarray(test2[['CityMPG']])\n",
    "test_y_hat2 = slr_model2.predict(test_x2)\n",
    "\n",
    "print(\"Mean Absolute Error: %.2f\" % np.mean(np.absolute(test_y_hat2 - test_y2)))\n",
    "print(\"Mean Squared Error: %.2f\" % np.mean((test_y_hat2 - test_y2) ** 2))"
   ]
  },
  {
   "cell_type": "code",
   "execution_count": 135,
   "metadata": {},
   "outputs": [
    {
     "name": "stdout",
     "output_type": "stream",
     "text": [
      "[ 0.42988099  0.48351452  0.44432922 -0.32353049  0.49198445]\n",
      "The mean reported R-Squared using K-fold for my model is: 0.31\n"
     ]
    }
   ],
   "source": [
    "# Write your code here\n",
    "# Use K-fold cross validation with r2 score to provide rationale why your model is preferred. \n",
    "from sklearn.model_selection import cross_val_score\n",
    "x3 = np.asanyarray(new_df[['Horsepower']])\n",
    "y3 = np.asanyarray(new_df[['CityMPG']])\n",
    "scores3 = cross_val_score(slr_model2, x3, y3, cv=5, scoring='r2')\n",
    "print(scores3)\n",
    "print('The mean reported R-Squared using K-fold for my model is: %.2f' % np.mean(scores3))"
   ]
  },
  {
   "cell_type": "markdown",
   "metadata": {},
   "source": [
    "__NOTE:__ From the K-fold cross validation with R-squared score result above, we can deduce that this model is less close to predicting the actual observations."
   ]
  },
  {
   "cell_type": "code",
   "execution_count": null,
   "metadata": {},
   "outputs": [],
   "source": []
  }
 ],
 "metadata": {
  "kernelspec": {
   "display_name": "Python 3 (ipykernel)",
   "language": "python",
   "name": "python3"
  },
  "language_info": {
   "codemirror_mode": {
    "name": "ipython",
    "version": 3
   },
   "file_extension": ".py",
   "mimetype": "text/x-python",
   "name": "python",
   "nbconvert_exporter": "python",
   "pygments_lexer": "ipython3",
   "version": "3.9.18"
  },
  "widgets": {
   "state": {},
   "version": "1.1.2"
  }
 },
 "nbformat": 4,
 "nbformat_minor": 4
}
